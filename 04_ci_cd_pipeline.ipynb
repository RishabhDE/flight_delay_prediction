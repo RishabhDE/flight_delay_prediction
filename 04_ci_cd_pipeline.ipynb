{
 "cells": [
  {
   "cell_type": "markdown",
   "id": "af71013f",
   "metadata": {},
   "source": [
    "# Flight Delay Prediction - CI/CD Pipeline with SageMaker Pipelines\n",
    "\n",
    "## Overview\n",
    "This notebook demonstrates:\n",
    "1. Creating an end-to-end SageMaker Pipeline\n",
    "2. Preprocessing, training, and evaluation steps\n",
    "3. Conditional deployment based on model performance\n",
    "4. Model registry and versioning\n",
    "5. Fail steps for quality gates\n",
    "6. Pipeline execution and monitoring"
   ]
  },
  {
   "cell_type": "markdown",
   "id": "45b6d9f4",
   "metadata": {},
   "source": [
    "## 1. Setup"
   ]
  },
  {
   "cell_type": "code",
   "execution_count": 1,
   "id": "17ae715f",
   "metadata": {},
   "outputs": [
    {
     "name": "stdout",
     "output_type": "stream",
     "text": [
      "sagemaker.config INFO - Not applying SDK defaults from location: /etc/xdg/sagemaker/config.yaml\n",
      "sagemaker.config INFO - Not applying SDK defaults from location: /home/sagemaker-user/.config/sagemaker/config.yaml\n",
      "Region: us-east-1\n",
      "Role: arn:aws:iam::730335352303:role/LabRole\n"
     ]
    }
   ],
   "source": [
    "import boto3\n",
    "import sagemaker\n",
    "import pandas as pd\n",
    "import json\n",
    "import time\n",
    "from datetime import datetime\n",
    "\n",
    "from sagemaker import get_execution_role\n",
    "from sagemaker.workflow.pipeline import Pipeline\n",
    "from sagemaker.workflow.steps import ProcessingStep, TrainingStep, CreateModelStep, TransformStep\n",
    "from sagemaker.workflow.step_collections import RegisterModel\n",
    "from sagemaker.workflow.conditions import ConditionGreaterThan\n",
    "from sagemaker.workflow.condition_step import ConditionStep\n",
    "from sagemaker.workflow.functions import JsonGet\n",
    "from sagemaker.workflow.parameters import ParameterInteger, ParameterString, ParameterFloat\n",
    "from sagemaker.workflow.pipeline_context import PipelineSession\n",
    "from sagemaker.workflow.properties import PropertyFile\n",
    "from sagemaker.workflow.fail_step import FailStep\n",
    "\n",
    "from sagemaker.processing import ProcessingInput, ProcessingOutput, ScriptProcessor\n",
    "from sagemaker.sklearn.estimator import SKLearn\n",
    "from sagemaker.xgboost.estimator import XGBoost\n",
    "from sagemaker.inputs import TrainingInput\n",
    "from sagemaker.model import Model\n",
    "from sagemaker.transformer import Transformer\n",
    "from sagemaker.model_metrics import MetricsSource, ModelMetrics\n",
    "\n",
    "# Setup\n",
    "role = get_execution_role()\n",
    "region = boto3.Session().region_name\n",
    "sagemaker_session = sagemaker.Session()\n",
    "pipeline_session = PipelineSession()\n",
    "\n",
    "print(f\"Region: {region}\")\n",
    "print(f\"Role: {role}\")"
   ]
  },
  {
   "cell_type": "code",
   "execution_count": 3,
   "id": "334b6a22",
   "metadata": {},
   "outputs": [
    {
     "name": "stdout",
     "output_type": "stream",
     "text": [
      "S3 Bucket: sagemaker-us-east-1-730335352303\n",
      "Prefix: flight-delay-prediction\n"
     ]
    }
   ],
   "source": [
    "# Load configuration\n",
    "with open('config.json', 'r') as f:\n",
    "    config = json.load(f)\n",
    "\n",
    "s3_bucket = config['s3_bucket']\n",
    "prefix = config['prefix']\n",
    "\n",
    "print(f\"S3 Bucket: {s3_bucket}\")\n",
    "print(f\"Prefix: {prefix}\")"
   ]
  },
  {
   "cell_type": "markdown",
   "id": "84ac411b",
   "metadata": {},
   "source": [
    "## 2. Define Pipeline Parameters"
   ]
  },
  {
   "cell_type": "code",
   "execution_count": 4,
   "id": "933f635b",
   "metadata": {},
   "outputs": [
    {
     "name": "stdout",
     "output_type": "stream",
     "text": [
      "Pipeline parameters defined\n"
     ]
    }
   ],
   "source": [
    "# Pipeline parameters allow for flexible execution\n",
    "processing_instance_type = ParameterString(\n",
    "    name=\"ProcessingInstanceType\",\n",
    "    default_value=\"ml.m5.xlarge\"\n",
    ")\n",
    "\n",
    "processing_instance_count = ParameterInteger(\n",
    "    name=\"ProcessingInstanceCount\",\n",
    "    default_value=1\n",
    ")\n",
    "\n",
    "training_instance_type = ParameterString(\n",
    "    name=\"TrainingInstanceType\",\n",
    "    default_value=\"ml.m5.xlarge\"\n",
    ")\n",
    "\n",
    "model_approval_status = ParameterString(\n",
    "    name=\"ModelApprovalStatus\",\n",
    "    default_value=\"PendingManualApproval\"\n",
    ")\n",
    "\n",
    "# Quality threshold for model approval\n",
    "accuracy_threshold = ParameterFloat(\n",
    "    name=\"AccuracyThreshold\",\n",
    "    default_value=0.70\n",
    ")\n",
    "\n",
    "f1_threshold = ParameterFloat(\n",
    "    name=\"F1Threshold\",\n",
    "    default_value=0.65\n",
    ")\n",
    "\n",
    "input_data = ParameterString(\n",
    "    name=\"InputData\",\n",
    "    default_value=f\"s3://{s3_bucket}/{prefix}/data/flight_data_complete.csv\"\n",
    ")\n",
    "\n",
    "print(\"Pipeline parameters defined\")"
   ]
  },
  {
   "cell_type": "markdown",
   "id": "65f7ab42",
   "metadata": {},
   "source": [
    "## 3. Create Preprocessing Script"
   ]
  },
  {
   "cell_type": "code",
   "execution_count": 5,
   "id": "e74f589a",
   "metadata": {},
   "outputs": [],
   "source": [
    "!mkdir -p pipeline_scripts"
   ]
  },
  {
   "cell_type": "code",
   "execution_count": 6,
   "id": "a9bc0f5d",
   "metadata": {},
   "outputs": [
    {
     "name": "stdout",
     "output_type": "stream",
     "text": [
      "Writing pipeline_scripts/preprocessing.py\n"
     ]
    }
   ],
   "source": [
    "%%writefile pipeline_scripts/preprocessing.py\n",
    "import pandas as pd\n",
    "import numpy as np\n",
    "import argparse\n",
    "import os\n",
    "import joblib\n",
    "from sklearn.model_selection import train_test_split\n",
    "from sklearn.preprocessing import StandardScaler, LabelEncoder\n",
    "\n",
    "if __name__ == \"__main__\":\n",
    "    parser = argparse.ArgumentParser()\n",
    "    parser.add_argument(\"--train-test-split-ratio\", type=float, default=0.2)\n",
    "    args, _ = parser.parse_known_args()\n",
    "    \n",
    "    print(\"Loading data...\")\n",
    "    input_data_path = \"/opt/ml/processing/input/flight_data_complete.csv\"\n",
    "    df = pd.read_csv(input_data_path)\n",
    "    print(f\"Loaded {len(df)} records\")\n",
    "    \n",
    "    # Select features\n",
    "    feature_columns = [\n",
    "        'airline', 'origin', 'destination', 'distance', \n",
    "        'day_of_week', 'month', 'departure_hour',\n",
    "        'temperature', 'wind_speed', 'precipitation', 'visibility', 'snow'\n",
    "    ]\n",
    "    target_column = 'is_delayed'\n",
    "    \n",
    "    X = df[feature_columns].copy()\n",
    "    y = df[target_column].copy()\n",
    "    \n",
    "    # Encode categorical variables\n",
    "    categorical_features = ['airline', 'origin', 'destination']\n",
    "    label_encoders = {}\n",
    "    \n",
    "    for col in categorical_features:\n",
    "        le = LabelEncoder()\n",
    "        X[col] = le.fit_transform(X[col])\n",
    "        label_encoders[col] = le\n",
    "    \n",
    "    # Split data\n",
    "    X_train, X_test, y_train, y_test = train_test_split(\n",
    "        X, y, test_size=args.train_test_split_ratio, random_state=42, stratify=y\n",
    "    )\n",
    "    \n",
    "    # Scale numerical features\n",
    "    scaler = StandardScaler()\n",
    "    numeric_features = ['distance', 'temperature', 'wind_speed', 'precipitation', 'visibility']\n",
    "    \n",
    "    X_train[numeric_features] = scaler.fit_transform(X_train[numeric_features])\n",
    "    X_test[numeric_features] = scaler.transform(X_test[numeric_features])\n",
    "    \n",
    "    # Combine features and target\n",
    "    train_data = pd.concat([y_train.reset_index(drop=True), X_train.reset_index(drop=True)], axis=1)\n",
    "    test_data = pd.concat([y_test.reset_index(drop=True), X_test.reset_index(drop=True)], axis=1)\n",
    "    \n",
    "    # Save datasets\n",
    "    print(\"Saving processed data...\")\n",
    "    train_data.to_csv(\"/opt/ml/processing/train/train.csv\", index=False, header=False)\n",
    "    test_data.to_csv(\"/opt/ml/processing/test/test.csv\", index=False, header=False)\n",
    "    \n",
    "    # Save test features and labels separately for evaluation\n",
    "    X_test.to_csv(\"/opt/ml/processing/test/test_features.csv\", index=False, header=False)\n",
    "    y_test.to_csv(\"/opt/ml/processing/test/test_labels.csv\", index=False, header=False)\n",
    "    \n",
    "    # Save preprocessing artifacts\n",
    "    joblib.dump(scaler, \"/opt/ml/processing/model/scaler.pkl\")\n",
    "    joblib.dump(label_encoders, \"/opt/ml/processing/model/label_encoders.pkl\")\n",
    "    \n",
    "    print(f\"Training data: {train_data.shape}\")\n",
    "    print(f\"Test data: {test_data.shape}\")\n",
    "    print(\"Preprocessing complete!\")"
   ]
  },
  {
   "cell_type": "markdown",
   "id": "21afa40f",
   "metadata": {},
   "source": [
    "## 4. Create Training Script"
   ]
  },
  {
   "cell_type": "code",
   "execution_count": 7,
   "id": "b9fc5008",
   "metadata": {},
   "outputs": [
    {
     "name": "stdout",
     "output_type": "stream",
     "text": [
      "Writing pipeline_scripts/train.py\n"
     ]
    }
   ],
   "source": [
    "%%writefile pipeline_scripts/train.py\n",
    "import pandas as pd\n",
    "import numpy as np\n",
    "import argparse\n",
    "import os\n",
    "import joblib\n",
    "import xgboost as xgb\n",
    "from sklearn.metrics import accuracy_score, precision_score, recall_score, f1_score, roc_auc_score\n",
    "\n",
    "if __name__ == \"__main__\":\n",
    "    parser = argparse.ArgumentParser()\n",
    "    \n",
    "    # Hyperparameters\n",
    "    parser.add_argument(\"--max-depth\", type=int, default=6)\n",
    "    parser.add_argument(\"--eta\", type=float, default=0.1)\n",
    "    parser.add_argument(\"--num-round\", type=int, default=100)\n",
    "    parser.add_argument(\"--subsample\", type=float, default=0.8)\n",
    "    parser.add_argument(\"--colsample-bytree\", type=float, default=0.8)\n",
    "    \n",
    "    # SageMaker specific arguments\n",
    "    parser.add_argument(\"--model-dir\", type=str, default=os.environ.get(\"SM_MODEL_DIR\"))\n",
    "    parser.add_argument(\"--train\", type=str, default=os.environ.get(\"SM_CHANNEL_TRAIN\"))\n",
    "    parser.add_argument(\"--validation\", type=str, default=os.environ.get(\"SM_CHANNEL_VALIDATION\"))\n",
    "    \n",
    "    args, _ = parser.parse_known_args()\n",
    "    \n",
    "    # Load data\n",
    "    print(\"Loading training data...\")\n",
    "    train_data = pd.read_csv(os.path.join(args.train, \"train.csv\"), header=None)\n",
    "    \n",
    "    # Split features and target\n",
    "    y_train = train_data.iloc[:, 0].values\n",
    "    X_train = train_data.iloc[:, 1:].values\n",
    "    \n",
    "    print(f\"Training samples: {len(X_train)}\")\n",
    "    print(f\"Features: {X_train.shape[1]}\")\n",
    "    \n",
    "    # Calculate scale_pos_weight for imbalanced data\n",
    "    scale_pos_weight = (y_train == 0).sum() / (y_train == 1).sum()\n",
    "    print(f\"Scale pos weight: {scale_pos_weight:.2f}\")\n",
    "    \n",
    "    # Create DMatrix\n",
    "    dtrain = xgb.DMatrix(X_train, label=y_train)\n",
    "    \n",
    "    # Set parameters\n",
    "    params = {\n",
    "        'max_depth': args.max_depth,\n",
    "        'eta': args.eta,\n",
    "        'objective': 'binary:logistic',\n",
    "        'eval_metric': 'logloss',\n",
    "        'subsample': args.subsample,\n",
    "        'colsample_bytree': args.colsample_bytree,\n",
    "        'scale_pos_weight': scale_pos_weight\n",
    "    }\n",
    "    \n",
    "    # Train model\n",
    "    print(\"Training XGBoost model...\")\n",
    "    model = xgb.train(\n",
    "        params=params,\n",
    "        dtrain=dtrain,\n",
    "        num_boost_round=args.num_round\n",
    "    )\n",
    "    \n",
    "    # Save model\n",
    "    model_path = os.path.join(args.model_dir, \"xgboost-model\")\n",
    "    model.save_model(model_path)\n",
    "    print(f\"Model saved to {model_path}\")\n",
    "    \n",
    "    print(\"Training complete!\")"
   ]
  },
  {
   "cell_type": "markdown",
   "id": "1d32ff78",
   "metadata": {},
   "source": [
    "## 5. Create Evaluation Script"
   ]
  },
  {
   "cell_type": "code",
   "execution_count": 8,
   "id": "6957f09c",
   "metadata": {},
   "outputs": [
    {
     "name": "stdout",
     "output_type": "stream",
     "text": [
      "Writing pipeline_scripts/evaluation.py\n"
     ]
    }
   ],
   "source": [
    "%%writefile pipeline_scripts/evaluation.py\n",
    "import json\n",
    "import pathlib\n",
    "import pickle\n",
    "import tarfile\n",
    "import joblib\n",
    "import numpy as np\n",
    "import pandas as pd\n",
    "import xgboost as xgb\n",
    "from sklearn.metrics import (\n",
    "    accuracy_score,\n",
    "    precision_score,\n",
    "    recall_score,\n",
    "    f1_score,\n",
    "    roc_auc_score,\n",
    "    confusion_matrix\n",
    ")\n",
    "\n",
    "if __name__ == \"__main__\":\n",
    "    # Load model\n",
    "    model_path = \"/opt/ml/processing/model/model.tar.gz\"\n",
    "    with tarfile.open(model_path) as tar:\n",
    "        tar.extractall(path=\".\")\n",
    "    \n",
    "    model = xgb.Booster()\n",
    "    model.load_model(\"xgboost-model\")\n",
    "    \n",
    "    # Load test data\n",
    "    print(\"Loading test data...\")\n",
    "    test_features = pd.read_csv(\n",
    "        \"/opt/ml/processing/test/test_features.csv\",\n",
    "        header=None\n",
    "    )\n",
    "    test_labels = pd.read_csv(\n",
    "        \"/opt/ml/processing/test/test_labels.csv\",\n",
    "        header=None\n",
    "    )\n",
    "    \n",
    "    X_test = test_features.values\n",
    "    y_test = test_labels.values.ravel()\n",
    "    \n",
    "    print(f\"Test samples: {len(X_test)}\")\n",
    "    \n",
    "    # Make predictions\n",
    "    dtest = xgb.DMatrix(X_test)\n",
    "    predictions_proba = model.predict(dtest)\n",
    "    predictions = (predictions_proba > 0.5).astype(int)\n",
    "    \n",
    "    # Calculate metrics\n",
    "    accuracy = accuracy_score(y_test, predictions)\n",
    "    precision = precision_score(y_test, predictions, zero_division=0)\n",
    "    recall = recall_score(y_test, predictions, zero_division=0)\n",
    "    f1 = f1_score(y_test, predictions, zero_division=0)\n",
    "    \n",
    "    try:\n",
    "        roc_auc = roc_auc_score(y_test, predictions_proba)\n",
    "    except:\n",
    "        roc_auc = 0.0\n",
    "    \n",
    "    cm = confusion_matrix(y_test, predictions)\n",
    "    \n",
    "    # Create report\n",
    "    report_dict = {\n",
    "        \"binary_classification_metrics\": {\n",
    "            \"accuracy\": {\"value\": float(accuracy), \"standard_deviation\": \"NaN\"},\n",
    "            \"precision\": {\"value\": float(precision), \"standard_deviation\": \"NaN\"},\n",
    "            \"recall\": {\"value\": float(recall), \"standard_deviation\": \"NaN\"},\n",
    "            \"f1\": {\"value\": float(f1), \"standard_deviation\": \"NaN\"},\n",
    "            \"roc_auc\": {\"value\": float(roc_auc), \"standard_deviation\": \"NaN\"},\n",
    "        },\n",
    "        \"confusion_matrix\": cm.tolist()\n",
    "    }\n",
    "    \n",
    "    print(\"\\nEvaluation Results:\")\n",
    "    print(f\"Accuracy:  {accuracy:.4f}\")\n",
    "    print(f\"Precision: {precision:.4f}\")\n",
    "    print(f\"Recall:    {recall:.4f}\")\n",
    "    print(f\"F1 Score:  {f1:.4f}\")\n",
    "    print(f\"ROC AUC:   {roc_auc:.4f}\")\n",
    "    \n",
    "    # Save evaluation report\n",
    "    output_dir = \"/opt/ml/processing/evaluation\"\n",
    "    pathlib.Path(output_dir).mkdir(parents=True, exist_ok=True)\n",
    "    \n",
    "    evaluation_path = f\"{output_dir}/evaluation.json\"\n",
    "    with open(evaluation_path, \"w\") as f:\n",
    "        f.write(json.dumps(report_dict))\n",
    "    \n",
    "    print(f\"\\nEvaluation report saved to {evaluation_path}\")"
   ]
  },
  {
   "cell_type": "markdown",
   "id": "b57b72c0",
   "metadata": {},
   "source": [
    "## 6. Define Processing Step"
   ]
  },
  {
   "cell_type": "code",
   "execution_count": 9,
   "id": "74e86103",
   "metadata": {},
   "outputs": [
    {
     "name": "stderr",
     "output_type": "stream",
     "text": [
      "WARNING:sagemaker.workflow.utilities:The input argument instance_type of function (sagemaker.image_uris.retrieve) is a pipeline variable (<class 'sagemaker.workflow.parameters.ParameterString'>), which is interpreted in pipeline execution time only. As the function needs to evaluate the argument value in SDK compile time, the default_value of this Parameter object will be used to override it. Please make sure the default_value is valid.\n",
      "INFO:sagemaker.image_uris:Defaulting to only available Python version: py3\n"
     ]
    },
    {
     "name": "stdout",
     "output_type": "stream",
     "text": [
      "Processing step defined\n"
     ]
    }
   ],
   "source": [
    "from sagemaker.sklearn.processing import SKLearnProcessor\n",
    "\n",
    "sklearn_processor = SKLearnProcessor(\n",
    "    framework_version=\"1.0-1\",\n",
    "    role=role,\n",
    "    instance_type=processing_instance_type,\n",
    "    instance_count=processing_instance_count,\n",
    "    base_job_name=\"flight-delay-preprocessing\",\n",
    "    sagemaker_session=pipeline_session\n",
    ")\n",
    "\n",
    "step_process = ProcessingStep(\n",
    "    name=\"PreprocessFlightData\",\n",
    "    processor=sklearn_processor,\n",
    "    inputs=[\n",
    "        ProcessingInput(\n",
    "            source=input_data,\n",
    "            destination=\"/opt/ml/processing/input\"\n",
    "        )\n",
    "    ],\n",
    "    outputs=[\n",
    "        ProcessingOutput(\n",
    "            output_name=\"train\",\n",
    "            source=\"/opt/ml/processing/train\"\n",
    "        ),\n",
    "        ProcessingOutput(\n",
    "            output_name=\"test\",\n",
    "            source=\"/opt/ml/processing/test\"\n",
    "        ),\n",
    "        ProcessingOutput(\n",
    "            output_name=\"preprocessing_artifacts\",\n",
    "            source=\"/opt/ml/processing/model\"\n",
    "        )\n",
    "    ],\n",
    "    code=\"pipeline_scripts/preprocessing.py\"\n",
    ")\n",
    "\n",
    "print(\"Processing step defined\")"
   ]
  },
  {
   "cell_type": "markdown",
   "id": "1b2e2586",
   "metadata": {},
   "source": [
    "## 7. Define Training Step"
   ]
  },
  {
   "cell_type": "code",
   "execution_count": 10,
   "id": "49067b61",
   "metadata": {},
   "outputs": [
    {
     "name": "stderr",
     "output_type": "stream",
     "text": [
      "WARNING:sagemaker.workflow.utilities:The input argument instance_type of function (sagemaker.image_uris.retrieve) is a pipeline variable (<class 'sagemaker.workflow.parameters.ParameterString'>), which is interpreted in pipeline execution time only. As the function needs to evaluate the argument value in SDK compile time, the default_value of this Parameter object will be used to override it. Please make sure the default_value is valid.\n",
      "INFO:sagemaker.image_uris:Ignoring unnecessary Python version: py3.\n",
      "INFO:sagemaker.image_uris:Ignoring unnecessary instance type: ml.m5.xlarge.\n"
     ]
    },
    {
     "name": "stdout",
     "output_type": "stream",
     "text": [
      "Training step defined\n"
     ]
    }
   ],
   "source": [
    "from sagemaker.xgboost.estimator import XGBoost\n",
    "from sagemaker.inputs import TrainingInput\n",
    "\n",
    "xgb_estimator = XGBoost(\n",
    "    entry_point=\"pipeline_scripts/train.py\",\n",
    "    role=role,\n",
    "    instance_type=training_instance_type,\n",
    "    instance_count=1,\n",
    "    framework_version=\"1.5-1\",\n",
    "    base_job_name=\"flight-delay-training\",\n",
    "    sagemaker_session=pipeline_session,\n",
    "    hyperparameters={\n",
    "        \"max-depth\": 6,\n",
    "        \"eta\": 0.1,\n",
    "        \"num-round\": 100,\n",
    "        \"subsample\": 0.8,\n",
    "        \"colsample-bytree\": 0.8\n",
    "    }\n",
    ")\n",
    "\n",
    "step_train = TrainingStep(\n",
    "    name=\"TrainFlightDelayModel\",\n",
    "    estimator=xgb_estimator,\n",
    "    inputs={\n",
    "        \"train\": TrainingInput(\n",
    "            s3_data=step_process.properties.ProcessingOutputConfig.Outputs[\n",
    "                \"train\"\n",
    "            ].S3Output.S3Uri,\n",
    "            content_type=\"text/csv\"\n",
    "        )\n",
    "    }\n",
    ")\n",
    "\n",
    "print(\"Training step defined\")"
   ]
  },
  {
   "cell_type": "markdown",
   "id": "109d88f0",
   "metadata": {},
   "source": [
    "## 8. Define Evaluation Step"
   ]
  },
  {
   "cell_type": "code",
   "execution_count": 11,
   "id": "411c01e8",
   "metadata": {},
   "outputs": [
    {
     "name": "stderr",
     "output_type": "stream",
     "text": [
      "WARNING:sagemaker.workflow.utilities:The input argument instance_type of function (sagemaker.image_uris.retrieve) is a pipeline variable (<class 'sagemaker.workflow.parameters.ParameterString'>), which is interpreted in pipeline execution time only. As the function needs to evaluate the argument value in SDK compile time, the default_value of this Parameter object will be used to override it. Please make sure the default_value is valid.\n",
      "INFO:sagemaker.image_uris:Defaulting to only available Python version: py3\n"
     ]
    },
    {
     "name": "stdout",
     "output_type": "stream",
     "text": [
      "Evaluation step defined\n"
     ]
    }
   ],
   "source": [
    "evaluation_processor = SKLearnProcessor(\n",
    "    framework_version=\"1.0-1\",\n",
    "    role=role,\n",
    "    instance_type=processing_instance_type,\n",
    "    instance_count=1,\n",
    "    base_job_name=\"flight-delay-evaluation\",\n",
    "    sagemaker_session=pipeline_session\n",
    ")\n",
    "\n",
    "evaluation_report = PropertyFile(\n",
    "    name=\"EvaluationReport\",\n",
    "    output_name=\"evaluation\",\n",
    "    path=\"evaluation.json\"\n",
    ")\n",
    "\n",
    "step_eval = ProcessingStep(\n",
    "    name=\"EvaluateModel\",\n",
    "    processor=evaluation_processor,\n",
    "    inputs=[\n",
    "        ProcessingInput(\n",
    "            source=step_train.properties.ModelArtifacts.S3ModelArtifacts,\n",
    "            destination=\"/opt/ml/processing/model\"\n",
    "        ),\n",
    "        ProcessingInput(\n",
    "            source=step_process.properties.ProcessingOutputConfig.Outputs[\n",
    "                \"test\"\n",
    "            ].S3Output.S3Uri,\n",
    "            destination=\"/opt/ml/processing/test\"\n",
    "        )\n",
    "    ],\n",
    "    outputs=[\n",
    "        ProcessingOutput(\n",
    "            output_name=\"evaluation\",\n",
    "            source=\"/opt/ml/processing/evaluation\"\n",
    "        )\n",
    "    ],\n",
    "    code=\"pipeline_scripts/evaluation.py\",\n",
    "    property_files=[evaluation_report]\n",
    ")\n",
    "\n",
    "print(\"Evaluation step defined\")"
   ]
  },
  {
   "cell_type": "markdown",
   "id": "92d0f655",
   "metadata": {},
   "source": [
    "## 9. Define Model Registration Step"
   ]
  },
  {
   "cell_type": "code",
   "execution_count": 12,
   "id": "f167cf71",
   "metadata": {},
   "outputs": [
    {
     "name": "stderr",
     "output_type": "stream",
     "text": [
      "WARNING:sagemaker.workflow.utilities:Popping out 'ProcessingJobName' from the pipeline definition by default since it will be overridden at pipeline execution time. Please utilize the PipelineDefinitionConfig to persist this field in the pipeline definition if desired.\n"
     ]
    },
    {
     "name": "stdout",
     "output_type": "stream",
     "text": [
      "Model registration step defined\n"
     ]
    }
   ],
   "source": [
    "from sagemaker.model_metrics import MetricsSource, ModelMetrics\n",
    "\n",
    "model_metrics = ModelMetrics(\n",
    "    model_statistics=MetricsSource(\n",
    "        s3_uri=\"{}/evaluation.json\".format(\n",
    "            step_eval.arguments[\"ProcessingOutputConfig\"][\"Outputs\"][0][\"S3Output\"][\"S3Uri\"]\n",
    "        ),\n",
    "        content_type=\"application/json\"\n",
    "    )\n",
    ")\n",
    "\n",
    "step_register = RegisterModel(\n",
    "    name=\"RegisterFlightDelayModel\",\n",
    "    estimator=xgb_estimator,\n",
    "    model_data=step_train.properties.ModelArtifacts.S3ModelArtifacts,\n",
    "    content_types=[\"text/csv\"],\n",
    "    response_types=[\"application/json\"],\n",
    "    inference_instances=[\"ml.m5.large\", \"ml.m5.xlarge\"],\n",
    "    transform_instances=[\"ml.m5.large\"],\n",
    "    model_package_group_name=\"FlightDelayPredictionPackageGroup\",\n",
    "    approval_status=model_approval_status,\n",
    "    model_metrics=model_metrics\n",
    ")\n",
    "\n",
    "print(\"Model registration step defined\")"
   ]
  },
  {
   "cell_type": "markdown",
   "id": "0caa1f9a",
   "metadata": {},
   "source": [
    "## 10. Define Fail Step"
   ]
  },
  {
   "cell_type": "code",
   "execution_count": 13,
   "id": "0323d501",
   "metadata": {},
   "outputs": [
    {
     "name": "stdout",
     "output_type": "stream",
     "text": [
      "Fail step defined\n"
     ]
    }
   ],
   "source": [
    "step_fail = FailStep(\n",
    "    name=\"ModelQualityCheckFailed\",\n",
    "    error_message=\"Model quality is below threshold. F1 score or accuracy too low.\"\n",
    ")\n",
    "\n",
    "print(\"Fail step defined\")"
   ]
  },
  {
   "cell_type": "markdown",
   "id": "34dccb97",
   "metadata": {},
   "source": [
    "## 11. Define Condition Step"
   ]
  },
  {
   "cell_type": "code",
   "execution_count": 14,
   "id": "1d763a0c",
   "metadata": {},
   "outputs": [
    {
     "name": "stdout",
     "output_type": "stream",
     "text": [
      "Condition step defined\n"
     ]
    }
   ],
   "source": [
    "# Condition: Check if F1 score meets threshold\n",
    "cond_gte_f1 = ConditionGreaterThan(\n",
    "    left=JsonGet(\n",
    "        step_name=step_eval.name,\n",
    "        property_file=evaluation_report,\n",
    "        json_path=\"binary_classification_metrics.f1.value\"\n",
    "    ),\n",
    "    right=f1_threshold\n",
    ")\n",
    "\n",
    "# Condition: Check if accuracy meets threshold\n",
    "cond_gte_accuracy = ConditionGreaterThan(\n",
    "    left=JsonGet(\n",
    "        step_name=step_eval.name,\n",
    "        property_file=evaluation_report,\n",
    "        json_path=\"binary_classification_metrics.accuracy.value\"\n",
    "    ),\n",
    "    right=accuracy_threshold\n",
    ")\n",
    "\n",
    "# Conditional step: Register model if quality is good, fail otherwise\n",
    "step_cond = ConditionStep(\n",
    "    name=\"CheckModelQuality\",\n",
    "    conditions=[cond_gte_f1, cond_gte_accuracy],\n",
    "    if_steps=[step_register],\n",
    "    else_steps=[step_fail]\n",
    ")\n",
    "\n",
    "print(\"Condition step defined\")"
   ]
  },
  {
   "cell_type": "markdown",
   "id": "3ff294f3",
   "metadata": {},
   "source": [
    "## 12. Create and Execute Pipeline"
   ]
  },
  {
   "cell_type": "code",
   "execution_count": 15,
   "id": "31e0ec99",
   "metadata": {},
   "outputs": [
    {
     "name": "stdout",
     "output_type": "stream",
     "text": [
      "Pipeline 'FlightDelayPredictionPipeline' defined\n"
     ]
    }
   ],
   "source": [
    "# Define pipeline\n",
    "pipeline_name = \"FlightDelayPredictionPipeline\"\n",
    "\n",
    "pipeline = Pipeline(\n",
    "    name=pipeline_name,\n",
    "    parameters=[\n",
    "        processing_instance_type,\n",
    "        processing_instance_count,\n",
    "        training_instance_type,\n",
    "        model_approval_status,\n",
    "        accuracy_threshold,\n",
    "        f1_threshold,\n",
    "        input_data\n",
    "    ],\n",
    "    steps=[step_process, step_train, step_eval, step_cond],\n",
    "    sagemaker_session=pipeline_session\n",
    ")\n",
    "\n",
    "print(f\"Pipeline '{pipeline_name}' defined\")"
   ]
  },
  {
   "cell_type": "code",
   "execution_count": 16,
   "id": "d763abd1",
   "metadata": {},
   "outputs": [
    {
     "name": "stderr",
     "output_type": "stream",
     "text": [
      "WARNING:sagemaker.workflow.utilities:Popping out 'ProcessingJobName' from the pipeline definition by default since it will be overridden at pipeline execution time. Please utilize the PipelineDefinitionConfig to persist this field in the pipeline definition if desired.\n",
      "WARNING:sagemaker.workflow.utilities:The input argument instance_type of function (sagemaker.image_uris.get_training_image_uri) is a pipeline variable (<class 'sagemaker.workflow.parameters.ParameterString'>), which is interpreted in pipeline execution time only. As the function needs to evaluate the argument value in SDK compile time, the default_value of this Parameter object will be used to override it. Please make sure the default_value is valid.\n",
      "WARNING:sagemaker.workflow.utilities:Popping out 'TrainingJobName' from the pipeline definition by default since it will be overridden at pipeline execution time. Please utilize the PipelineDefinitionConfig to persist this field in the pipeline definition if desired.\n",
      "WARNING:sagemaker.workflow.utilities:Popping out 'ProcessingJobName' from the pipeline definition by default since it will be overridden at pipeline execution time. Please utilize the PipelineDefinitionConfig to persist this field in the pipeline definition if desired.\n",
      "WARNING:sagemaker.estimator:No finished training job found associated with this estimator. Please make sure this estimator is only used for building workflow config\n",
      "WARNING:sagemaker.workflow._utils:Popping out 'CertifyForMarketplace' from the pipeline definition since it will be overridden in pipeline execution time.\n",
      "WARNING:sagemaker.workflow.utilities:Popping out 'ModelPackageName' from the pipeline definition by default since it will be overridden at pipeline execution time. Please utilize the PipelineDefinitionConfig to persist this field in the pipeline definition if desired.\n"
     ]
    },
    {
     "name": "stdout",
     "output_type": "stream",
     "text": [
      "Pipeline Definition (Steps):\n",
      "  - PreprocessFlightData (Processing)\n",
      "  - TrainFlightDelayModel (Training)\n",
      "  - EvaluateModel (Processing)\n",
      "  - CheckModelQuality (Condition)\n"
     ]
    }
   ],
   "source": [
    "# View pipeline definition\n",
    "import json\n",
    "definition = json.loads(pipeline.definition())\n",
    "print(\"Pipeline Definition (Steps):\")\n",
    "for step in definition['Steps']:\n",
    "    print(f\"  - {step['Name']} ({step['Type']})\")"
   ]
  },
  {
   "cell_type": "code",
   "execution_count": 17,
   "id": "666a25e3",
   "metadata": {},
   "outputs": [
    {
     "name": "stderr",
     "output_type": "stream",
     "text": [
      "WARNING:sagemaker.workflow.utilities:Popping out 'ProcessingJobName' from the pipeline definition by default since it will be overridden at pipeline execution time. Please utilize the PipelineDefinitionConfig to persist this field in the pipeline definition if desired.\n",
      "WARNING:sagemaker.workflow.utilities:The input argument instance_type of function (sagemaker.image_uris.get_training_image_uri) is a pipeline variable (<class 'sagemaker.workflow.parameters.ParameterString'>), which is interpreted in pipeline execution time only. As the function needs to evaluate the argument value in SDK compile time, the default_value of this Parameter object will be used to override it. Please make sure the default_value is valid.\n",
      "WARNING:sagemaker.workflow.utilities:Popping out 'TrainingJobName' from the pipeline definition by default since it will be overridden at pipeline execution time. Please utilize the PipelineDefinitionConfig to persist this field in the pipeline definition if desired.\n",
      "WARNING:sagemaker.workflow.utilities:Popping out 'ProcessingJobName' from the pipeline definition by default since it will be overridden at pipeline execution time. Please utilize the PipelineDefinitionConfig to persist this field in the pipeline definition if desired.\n",
      "WARNING:sagemaker.estimator:No finished training job found associated with this estimator. Please make sure this estimator is only used for building workflow config\n",
      "WARNING:sagemaker.workflow._utils:Popping out 'CertifyForMarketplace' from the pipeline definition since it will be overridden in pipeline execution time.\n",
      "WARNING:sagemaker.workflow.utilities:Popping out 'ModelPackageName' from the pipeline definition by default since it will be overridden at pipeline execution time. Please utilize the PipelineDefinitionConfig to persist this field in the pipeline definition if desired.\n"
     ]
    },
    {
     "name": "stdout",
     "output_type": "stream",
     "text": [
      "✅ Pipeline 'FlightDelayPredictionPipeline' created/updated\n"
     ]
    }
   ],
   "source": [
    "# Create/Update pipeline\n",
    "pipeline.upsert(role_arn=role)\n",
    "print(f\"✅ Pipeline '{pipeline_name}' created/updated\")"
   ]
  },
  {
   "cell_type": "code",
   "execution_count": 18,
   "id": "676115ec",
   "metadata": {},
   "outputs": [
    {
     "name": "stdout",
     "output_type": "stream",
     "text": [
      "Pipeline execution started!\n",
      "Execution ARN: arn:aws:sagemaker:us-east-1:730335352303:pipeline/FlightDelayPredictionPipeline/execution/38agnaulr6e4\n",
      "\n",
      "View in SageMaker Studio or Console:\n",
      "https://console.aws.amazon.com/sagemaker/home?region=us-east-1#/pipelines/FlightDelayPredictionPipeline/executions/38agnaulr6e4\n",
      "CPU times: user 5.16 ms, sys: 0 ns, total: 5.16 ms\n",
      "Wall time: 220 ms\n"
     ]
    }
   ],
   "source": [
    "%%time\n",
    "# Start pipeline execution\n",
    "execution = pipeline.start()\n",
    "execution_arn = execution.arn\n",
    "\n",
    "print(f\"Pipeline execution started!\")\n",
    "print(f\"Execution ARN: {execution_arn}\")\n",
    "print(f\"\\nView in SageMaker Studio or Console:\")\n",
    "print(f\"https://console.aws.amazon.com/sagemaker/home?region={region}#/pipelines/{pipeline_name}/executions/{execution.arn.split('/')[-1]}\")"
   ]
  },
  {
   "cell_type": "code",
   "execution_count": null,
   "id": "02ea3eaa",
   "metadata": {},
   "outputs": [
    {
     "name": "stdout",
     "output_type": "stream",
     "text": [
      "Waiting for pipeline execution to complete...\n",
      "This may take 15-30 minutes. You can monitor progress in SageMaker Console.\n",
      "\n",
      "✅ Pipeline execution completed!\n"
     ]
    }
   ],
   "source": [
    "# Wait for execution to complete (this may take 15-30 minutes)\n",
    "print(\"Waiting for pipeline execution to complete...\")\n",
    "print(\"This may take 15-30 minutes. You can monitor progress in SageMaker Console.\")\n",
    "\n",
    "execution.wait()\n",
    "print(\"\\n✅ Pipeline execution completed!\")"
   ]
  },
  {
   "cell_type": "markdown",
   "id": "672ac4f0",
   "metadata": {},
   "source": [
    "## 13. Examine Pipeline Execution"
   ]
  },
  {
   "cell_type": "code",
   "execution_count": null,
   "id": "ee848451",
   "metadata": {},
   "outputs": [],
   "source": [
    "# Get execution steps\n",
    "execution_steps = execution.list_steps()\n",
    "\n",
    "print(\"Pipeline Execution Steps:\")\n",
    "print(f\"{'='*80}\")\n",
    "for step in execution_steps:\n",
    "    print(f\"Step: {step['StepName']}\")\n",
    "    print(f\"  Status: {step['StepStatus']}\")\n",
    "    print(f\"  Start: {step.get('StartTime', 'N/A')}\")\n",
    "    print(f\"  End: {step.get('EndTime', 'N/A')}\")\n",
    "    print(f\"{'-'*80}\")"
   ]
  },
  {
   "cell_type": "code",
   "execution_count": null,
   "id": "2ec02f60",
   "metadata": {},
   "outputs": [],
   "source": [
    "# Get evaluation results\n",
    "from sagemaker.s3 import S3Downloader\n",
    "\n",
    "for step in execution_steps:\n",
    "    if step['StepName'] == 'EvaluateModel' and step['StepStatus'] == 'Succeeded':\n",
    "        evaluation_s3_uri = step['Metadata']['ProcessingJob']['ProcessingOutputConfig']['Outputs'][0]['S3Output']['S3Uri']\n",
    "        \n",
    "        print(f\"Downloading evaluation results from: {evaluation_s3_uri}\")\n",
    "        !mkdir -p pipeline_results\n",
    "        S3Downloader.download(f\"{evaluation_s3_uri}/evaluation.json\", \"pipeline_results\")\n",
    "        \n",
    "        with open('pipeline_results/evaluation.json', 'r') as f:\n",
    "            evaluation_results = json.load(f)\n",
    "        \n",
    "        print(\"\\n\" + \"=\"*80)\n",
    "        print(\"MODEL EVALUATION RESULTS\")\n",
    "        print(\"=\"*80)\n",
    "        for metric, values in evaluation_results['binary_classification_metrics'].items():\n",
    "            print(f\"{metric.upper()}: {values['value']:.4f}\")\n",
    "        print(\"=\"*80)\n",
    "        break"
   ]
  },
  {
   "cell_type": "markdown",
   "id": "9dfba2af",
   "metadata": {},
   "source": [
    "## 14. Test Failed Pipeline Execution"
   ]
  },
  {
   "cell_type": "code",
   "execution_count": null,
   "id": "e49e0ee4",
   "metadata": {},
   "outputs": [],
   "source": [
    "# Start pipeline with very high thresholds to trigger failure\n",
    "print(\"Testing pipeline failure scenario with high quality thresholds...\")\n",
    "\n",
    "failed_execution = pipeline.start(\n",
    "    parameters={\n",
    "        \"AccuracyThreshold\": 0.99,  # Unrealistically high\n",
    "        \"F1Threshold\": 0.95  # Unrealistically high\n",
    "    }\n",
    ")\n",
    "\n",
    "print(f\"\\nFailed execution started: {failed_execution.arn}\")\n",
    "print(\"Waiting for execution...\")\n",
    "\n",
    "failed_execution.wait()\n",
    "print(\"\\nExecution completed (expected to fail at quality check)\")"
   ]
  },
  {
   "cell_type": "code",
   "execution_count": null,
   "id": "e2676240",
   "metadata": {},
   "outputs": [],
   "source": [
    "# Check failed execution steps\n",
    "failed_steps = failed_execution.list_steps()\n",
    "\n",
    "print(\"\\nFailed Pipeline Execution Steps:\")\n",
    "print(\"=\"*80)\n",
    "for step in failed_steps:\n",
    "    print(f\"Step: {step['StepName']}\")\n",
    "    print(f\"  Status: {step['StepStatus']}\")\n",
    "    if step['StepStatus'] == 'Failed':\n",
    "        print(f\"  ⚠️  Failure Reason: {step.get('FailureReason', 'Model quality below threshold')}\")\n",
    "    print(f\"{'-'*80}\")\n",
    "\n",
    "print(\"\\n✅ Fail step triggered successfully when quality threshold not met!\")"
   ]
  },
  {
   "cell_type": "markdown",
   "id": "4010a013",
   "metadata": {},
   "source": [
    "## 15. View Model Registry"
   ]
  },
  {
   "cell_type": "code",
   "execution_count": 21,
   "id": "40c88aa4",
   "metadata": {},
   "outputs": [
    {
     "name": "stdout",
     "output_type": "stream",
     "text": [
      "Registered Models in Model Registry:\n",
      "================================================================================\n",
      "================================================================================\n"
     ]
    }
   ],
   "source": [
    "# List model packages in registry\n",
    "sm_client = boto3.client('sagemaker')\n",
    "\n",
    "model_packages = sm_client.list_model_packages(\n",
    "    ModelPackageGroupName=\"FlightDelayPredictionPackageGroup\",\n",
    "    SortBy='CreationTime',\n",
    "    SortOrder='Descending'\n",
    ")\n",
    "\n",
    "print(\"Registered Models in Model Registry:\")\n",
    "print(\"=\"*80)\n",
    "for i, package in enumerate(model_packages['ModelPackageSummaryList'][:5], 1):\n",
    "    print(f\"\\nModel {i}:\")\n",
    "    print(f\"  ARN: {package['ModelPackageArn']}\")\n",
    "    print(f\"  Status: {package['ModelPackageStatus']}\")\n",
    "    print(f\"  Approval Status: {package.get('ModelApprovalStatus', 'N/A')}\")\n",
    "    print(f\"  Created: {package['CreationTime']}\")\n",
    "print(\"=\"*80)"
   ]
  },
  {
   "cell_type": "markdown",
   "id": "8eccb0f5",
   "metadata": {},
   "source": [
    "## 16. Visualize Pipeline DAG"
   ]
  },
  {
   "cell_type": "code",
   "execution_count": 22,
   "id": "e0345568",
   "metadata": {},
   "outputs": [
    {
     "data": {
      "image/png": "[encoded data removed]",
      "text/plain": [
       "<Figure size 1200x800 with 1 Axes>"
      ]
     },
     "metadata": {},
     "output_type": "display_data"
    },
    {
     "name": "stdout",
     "output_type": "stream",
     "text": [
      "Pipeline DAG visualization saved as 'pipeline_dag.png'\n"
     ]
    }
   ],
   "source": [
    "# Create simple pipeline visualization\n",
    "import matplotlib.pyplot as plt\n",
    "import matplotlib.patches as mpatches\n",
    "from matplotlib.patches import FancyBboxPatch, FancyArrowPatch\n",
    "\n",
    "fig, ax = plt.subplots(figsize=(12, 8))\n",
    "ax.set_xlim(0, 10)\n",
    "ax.set_ylim(0, 10)\n",
    "ax.axis('off')\n",
    "\n",
    "# Define step positions\n",
    "steps_info = [\n",
    "    {\"name\": \"Preprocess\\nData\", \"pos\": (2, 8), \"color\": \"lightblue\"},\n",
    "    {\"name\": \"Train\\nModel\", \"pos\": (2, 6), \"color\": \"lightgreen\"},\n",
    "    {\"name\": \"Evaluate\\nModel\", \"pos\": (2, 4), \"color\": \"lightyellow\"},\n",
    "    {\"name\": \"Quality\\nCheck\", \"pos\": (5, 4), \"color\": \"orange\"},\n",
    "    {\"name\": \"Register\\nModel\", \"pos\": (7.5, 6), \"color\": \"lightgreen\"},\n",
    "    {\"name\": \"Fail\", \"pos\": (7.5, 2), \"color\": \"lightcoral\"}\n",
    "]\n",
    "\n",
    "# Draw steps\n",
    "for step in steps_info:\n",
    "    box = FancyBboxPatch(\n",
    "        (step[\"pos\"][0]-0.6, step[\"pos\"][1]-0.4),\n",
    "        1.2, 0.8,\n",
    "        boxstyle=\"round,pad=0.1\",\n",
    "        edgecolor=\"black\",\n",
    "        facecolor=step[\"color\"],\n",
    "        linewidth=2\n",
    "    )\n",
    "    ax.add_patch(box)\n",
    "    ax.text(step[\"pos\"][0], step[\"pos\"][1], step[\"name\"],\n",
    "            ha='center', va='center', fontsize=10, fontweight='bold')\n",
    "\n",
    "# Draw arrows\n",
    "arrows = [\n",
    "    ((2, 7.6), (2, 6.4)),  # Preprocess -> Train\n",
    "    ((2, 5.6), (2, 4.4)),  # Train -> Evaluate\n",
    "    ((2.6, 4), (4.4, 4)),  # Evaluate -> Quality Check\n",
    "    ((5.6, 4.4), (6.9, 5.6)),  # Quality Check -> Register (success)\n",
    "    ((5.6, 3.6), (6.9, 2.4)),  # Quality Check -> Fail (failure)\n",
    "]\n",
    "\n",
    "for start, end in arrows:\n",
    "    arrow = FancyArrowPatch(\n",
    "        start, end,\n",
    "        arrowstyle='->,head_width=0.4,head_length=0.8',\n",
    "        color='black',\n",
    "        linewidth=2\n",
    "    )\n",
    "    ax.add_patch(arrow)\n",
    "\n",
    "# Add labels\n",
    "ax.text(6.5, 5, 'Pass', fontsize=9, color='green', fontweight='bold')\n",
    "ax.text(6.5, 3, 'Fail', fontsize=9, color='red', fontweight='bold')\n",
    "\n",
    "plt.title('Flight Delay Prediction - CI/CD Pipeline DAG', fontsize=14, fontweight='bold', pad=20)\n",
    "plt.tight_layout()\n",
    "plt.savefig('pipeline_dag.png', dpi=150, bbox_inches='tight')\n",
    "plt.show()\n",
    "\n",
    "print(\"Pipeline DAG visualization saved as 'pipeline_dag.png'\")"
   ]
  },
  {
   "cell_type": "markdown",
   "id": "8c525a6a",
   "metadata": {},
   "source": [
    "## 17. Save Pipeline Configuration"
   ]
  },
  {
   "cell_type": "code",
   "execution_count": null,
   "id": "3571906f",
   "metadata": {},
   "outputs": [
    {
     "name": "stdout",
     "output_type": "stream",
     "text": [
      "Configuration updated and saved\n"
     ]
    }
   ],
   "source": [
    "# Update configuration\n",
    "config['pipeline_name'] = pipeline_name\n",
    "config['pipeline_arn'] = pipeline.pipeline_arn\n",
    "config['latest_execution_arn'] = execution_arn\n",
    "config['model_package_group_name'] = 'FlightDelayPredictionPackageGroup'\n",
    "\n",
    "with open('config.json', 'w') as f:\n",
    "    json.dump(config, f, indent=2)\n",
    "\n",
    "print(\"Configuration updated and saved\")"
   ]
  },
  {
   "cell_type": "markdown",
   "id": "dba1f46a",
   "metadata": {},
   "source": [
    "## Summary\n",
    "\n",
    "In this notebook, we:\n",
    "1. ✅ Created an end-to-end SageMaker Pipeline with 6 steps\n",
    "2. ✅ Implemented preprocessing, training, and evaluation steps\n",
    "3. ✅ Added conditional deployment based on quality thresholds\n",
    "4. ✅ Created fail step for quality gates\n",
    "5. ✅ Registered models in Model Registry\n",
    "6. ✅ Tested both successful and failed pipeline executions\n",
    "7. ✅ Visualized pipeline DAG\n",
    "\n",
    "### Pipeline Components:\n",
    "- **PreprocessFlightData:** Data preprocessing and feature engineering\n",
    "- **TrainFlightDelayModel:** XGBoost model training\n",
    "- **EvaluateModel:** Model evaluation on test set\n",
    "- **CheckModelQuality:** Conditional step checking quality thresholds\n",
    "- **RegisterFlightDelayModel:** Register model in Model Registry (if quality passes)\n",
    "- **ModelQualityCheckFailed:** Fail step (if quality doesn't meet threshold)\n",
    "\n",
    "### Next Steps:\n",
    "Proceed to **05_batch_inference.ipynb** to:\n",
    "- Create batch transform job for large-scale predictions\n",
    "- Process batch flight data\n",
    "- Compare batch vs real-time inference performance"
   ]
  }
 ],
 "metadata": {
  "kernelspec": {
   "display_name": "base",
   "language": "python",
   "name": "python3"
  },
  "language_info": {
   "codemirror_mode": {
    "name": "ipython",
    "version": 3
   },
   "file_extension": ".py",
   "mimetype": "text/x-python",
   "name": "python",
   "nbconvert_exporter": "python",
   "pygments_lexer": "ipython3",
   "version": "3.12.9"
  }
 },
 "nbformat": 4,
 "nbformat_minor": 5
}
