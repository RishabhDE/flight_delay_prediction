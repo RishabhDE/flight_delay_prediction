{
 "cells": [
  {
   "cell_type": "code",
   "execution_count": 1,
   "id": "c717ef84",
   "metadata": {
    "execution": {
     "iopub.execute_input": "2025-10-21T02:00:38.841362Z",
     "iopub.status.busy": "2025-10-21T02:00:38.838081Z",
     "iopub.status.idle": "2025-10-21T02:00:38.848135Z",
     "shell.execute_reply": "2025-10-21T02:00:38.846234Z",
     "shell.execute_reply.started": "2025-10-21T02:00:38.841329Z"
    }
   },
   "outputs": [
    {
     "name": "stdout",
     "output_type": "stream",
     "text": [
      "hello, test\n"
     ]
    }
   ],
   "source": [
    "print(\"hello, test\")"
   ]
  },
  {
   "cell_type": "code",
   "execution_count": null,
   "id": "49d25d28",
   "metadata": {},
   "outputs": [],
   "source": []
  }
 ],
 "metadata": {
  "kernelspec": {
   "display_name": "base",
   "language": "python",
   "name": "python3"
  },
  "language_info": {
   "codemirror_mode": {
    "name": "ipython",
    "version": 3
   },
   "file_extension": ".py",
   "mimetype": "text/x-python",
   "name": "python",
   "nbconvert_exporter": "python",
   "pygments_lexer": "ipython3",
   "version": "3.12.9"
  }
 },
 "nbformat": 4,
 "nbformat_minor": 5
}
