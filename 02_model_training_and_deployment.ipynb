{
 "cells": [
  {
   "cell_type": "markdown",
   "id": "c5ff717e",
   "metadata": {},
   "source": [
    "# Flight Delay Prediction - Model Training & Deployment\n",
    "\n",
    "## Overview\n",
    "This notebook demonstrates:\n",
    "1. Building training dataset from Feature Store\n",
    "2. Training multiple models (Logistic Regression, Random Forest, XGBoost)\n",
    "3. Model evaluation and comparison\n",
    "4. Deploying the best model to SageMaker endpoint with data capture\n",
    "5. Testing real-time inference"
   ]
  },
  {
   "cell_type": "markdown",
   "id": "6a749630",
   "metadata": {},
   "source": [
    "## 1. Setup and Load Configuration"
   ]
  },
  {
   "cell_type": "code",
   "execution_count": 1,
   "id": "6e895b14",
   "metadata": {},
   "outputs": [
    {
     "name": "stdout",
     "output_type": "stream",
     "text": [
      "Requirement already satisfied: sagemaker in /opt/conda/lib/python3.12/site-packages (2.245.0)\n",
      "Collecting sagemaker\n",
      "  Using cached sagemaker-2.253.1-py3-none-any.whl.metadata (17 kB)\n",
      "Requirement already satisfied: boto3 in /opt/conda/lib/python3.12/site-packages (1.37.1)\n",
      "Collecting boto3\n",
      "  Using cached boto3-1.40.55-py3-none-any.whl.metadata (6.6 kB)\n",
      "Requirement already satisfied: pandas in /opt/conda/lib/python3.12/site-packages (2.3.1)\n",
      "Collecting pandas\n",
      "  Using cached pandas-2.3.3-cp312-cp312-manylinux_2_24_x86_64.manylinux_2_28_x86_64.whl.metadata (91 kB)\n",
      "Requirement already satisfied: numpy in /opt/conda/lib/python3.12/site-packages (1.26.4)\n",
      "Collecting numpy\n",
      "  Using cached numpy-2.3.4-cp312-cp312-manylinux_2_27_x86_64.manylinux_2_28_x86_64.whl.metadata (62 kB)\n",
      "Requirement already satisfied: scikit-learn in /opt/conda/lib/python3.12/site-packages (1.7.1)\n",
      "Collecting scikit-learn\n",
      "  Using cached scikit_learn-1.7.2-cp312-cp312-manylinux2014_x86_64.manylinux_2_17_x86_64.whl.metadata (11 kB)\n",
      "Requirement already satisfied: xgboost in /opt/conda/lib/python3.12/site-packages (2.1.4)\n",
      "Collecting xgboost\n",
      "  Using cached xgboost-3.1.0-py3-none-manylinux_2_28_x86_64.whl.metadata (2.1 kB)\n",
      "Collecting imbalanced-learn\n",
      "  Using cached imbalanced_learn-0.14.0-py3-none-any.whl.metadata (8.8 kB)\n",
      "Collecting attrs<26,>=24 (from sagemaker)\n",
      "  Using cached attrs-25.4.0-py3-none-any.whl.metadata (10 kB)\n",
      "Requirement already satisfied: cloudpickle>=2.2.1 in /opt/conda/lib/python3.12/site-packages (from sagemaker) (3.1.1)\n",
      "Requirement already satisfied: docker in /opt/conda/lib/python3.12/site-packages (from sagemaker) (7.1.0)\n",
      "Requirement already satisfied: fastapi in /opt/conda/lib/python3.12/site-packages (from sagemaker) (0.116.1)\n",
      "Requirement already satisfied: google-pasta in /opt/conda/lib/python3.12/site-packages (from sagemaker) (0.2.0)\n",
      "Requirement already satisfied: graphene<4,>=3 in /opt/conda/lib/python3.12/site-packages (from sagemaker) (3.4.3)\n",
      "Requirement already satisfied: importlib-metadata<7.0,>=1.4.0 in /opt/conda/lib/python3.12/site-packages (from sagemaker) (6.10.0)\n",
      "Requirement already satisfied: jsonschema in /opt/conda/lib/python3.12/site-packages (from sagemaker) (4.23.0)\n",
      "Requirement already satisfied: omegaconf<3,>=2.2 in /opt/conda/lib/python3.12/site-packages (from sagemaker) (2.3.0)\n",
      "Requirement already satisfied: packaging<25,>=23.0 in /opt/conda/lib/python3.12/site-packages (from sagemaker) (24.2)\n",
      "Requirement already satisfied: pathos in /opt/conda/lib/python3.12/site-packages (from sagemaker) (0.3.4)\n",
      "Requirement already satisfied: platformdirs in /opt/conda/lib/python3.12/site-packages (from sagemaker) (4.3.8)\n",
      "Requirement already satisfied: protobuf<6.32,>=3.12 in /opt/conda/lib/python3.12/site-packages (from sagemaker) (5.28.3)\n",
      "Requirement already satisfied: psutil in /opt/conda/lib/python3.12/site-packages (from sagemaker) (5.9.8)\n",
      "Requirement already satisfied: pyyaml>=6.0.1 in /opt/conda/lib/python3.12/site-packages (from sagemaker) (6.0.2)\n",
      "Requirement already satisfied: requests in /opt/conda/lib/python3.12/site-packages (from sagemaker) (2.32.4)\n",
      "Requirement already satisfied: sagemaker-core<2.0.0,>=1.0.17 in /opt/conda/lib/python3.12/site-packages (from sagemaker) (1.0.52)\n",
      "Requirement already satisfied: schema in /opt/conda/lib/python3.12/site-packages (from sagemaker) (0.7.7)\n",
      "Requirement already satisfied: smdebug-rulesconfig==1.0.1 in /opt/conda/lib/python3.12/site-packages (from sagemaker) (1.0.1)\n",
      "Requirement already satisfied: tblib<4,>=1.7.0 in /opt/conda/lib/python3.12/site-packages (from sagemaker) (3.1.0)\n",
      "Requirement already satisfied: tqdm in /opt/conda/lib/python3.12/site-packages (from sagemaker) (4.67.1)\n",
      "Requirement already satisfied: urllib3<3.0.0,>=1.26.8 in /opt/conda/lib/python3.12/site-packages (from sagemaker) (1.26.19)\n",
      "Requirement already satisfied: uvicorn in /opt/conda/lib/python3.12/site-packages (from sagemaker) (0.35.0)\n",
      "Collecting botocore<1.41.0,>=1.40.55 (from boto3)\n",
      "  Using cached botocore-1.40.55-py3-none-any.whl.metadata (5.7 kB)\n",
      "Requirement already satisfied: jmespath<2.0.0,>=0.7.1 in /opt/conda/lib/python3.12/site-packages (from boto3) (1.0.1)\n",
      "Collecting s3transfer<0.15.0,>=0.14.0 (from boto3)\n",
      "  Using cached s3transfer-0.14.0-py3-none-any.whl.metadata (1.7 kB)\n",
      "Requirement already satisfied: python-dateutil<3.0.0,>=2.1 in /opt/conda/lib/python3.12/site-packages (from botocore<1.41.0,>=1.40.55->boto3) (2.9.0.post0)\n",
      "Requirement already satisfied: graphql-core<3.3,>=3.1 in /opt/conda/lib/python3.12/site-packages (from graphene<4,>=3->sagemaker) (3.2.6)\n",
      "Requirement already satisfied: graphql-relay<3.3,>=3.1 in /opt/conda/lib/python3.12/site-packages (from graphene<4,>=3->sagemaker) (3.2.0)\n",
      "Requirement already satisfied: typing-extensions<5,>=4.7.1 in /opt/conda/lib/python3.12/site-packages (from graphene<4,>=3->sagemaker) (4.14.1)\n",
      "Requirement already satisfied: zipp>=0.5 in /opt/conda/lib/python3.12/site-packages (from importlib-metadata<7.0,>=1.4.0->sagemaker) (3.23.0)\n",
      "Requirement already satisfied: antlr4-python3-runtime==4.9.* in /opt/conda/lib/python3.12/site-packages (from omegaconf<3,>=2.2->sagemaker) (4.9.3)\n",
      "Requirement already satisfied: six>=1.5 in /opt/conda/lib/python3.12/site-packages (from python-dateutil<3.0.0,>=2.1->botocore<1.41.0,>=1.40.55->boto3) (1.17.0)\n",
      "Requirement already satisfied: pydantic<3.0.0,>=2.0.0 in /opt/conda/lib/python3.12/site-packages (from sagemaker-core<2.0.0,>=1.0.17->sagemaker) (2.11.7)\n",
      "Requirement already satisfied: rich<15.0.0,>=13.0.0 in /opt/conda/lib/python3.12/site-packages (from sagemaker-core<2.0.0,>=1.0.17->sagemaker) (13.9.4)\n",
      "Requirement already satisfied: mock<5.0,>4.0 in /opt/conda/lib/python3.12/site-packages (from sagemaker-core<2.0.0,>=1.0.17->sagemaker) (4.0.3)\n",
      "Requirement already satisfied: jsonschema-specifications>=2023.03.6 in /opt/conda/lib/python3.12/site-packages (from jsonschema->sagemaker) (2025.4.1)\n",
      "Requirement already satisfied: referencing>=0.28.4 in /opt/conda/lib/python3.12/site-packages (from jsonschema->sagemaker) (0.36.2)\n",
      "Requirement already satisfied: rpds-py>=0.7.1 in /opt/conda/lib/python3.12/site-packages (from jsonschema->sagemaker) (0.27.0)\n",
      "Requirement already satisfied: annotated-types>=0.6.0 in /opt/conda/lib/python3.12/site-packages (from pydantic<3.0.0,>=2.0.0->sagemaker-core<2.0.0,>=1.0.17->sagemaker) (0.7.0)\n",
      "Requirement already satisfied: pydantic-core==2.33.2 in /opt/conda/lib/python3.12/site-packages (from pydantic<3.0.0,>=2.0.0->sagemaker-core<2.0.0,>=1.0.17->sagemaker) (2.33.2)\n",
      "Requirement already satisfied: typing-inspection>=0.4.0 in /opt/conda/lib/python3.12/site-packages (from pydantic<3.0.0,>=2.0.0->sagemaker-core<2.0.0,>=1.0.17->sagemaker) (0.4.1)\n",
      "Requirement already satisfied: markdown-it-py>=2.2.0 in /opt/conda/lib/python3.12/site-packages (from rich<15.0.0,>=13.0.0->sagemaker-core<2.0.0,>=1.0.17->sagemaker) (4.0.0)\n",
      "Requirement already satisfied: pygments<3.0.0,>=2.13.0 in /opt/conda/lib/python3.12/site-packages (from rich<15.0.0,>=13.0.0->sagemaker-core<2.0.0,>=1.0.17->sagemaker) (2.19.2)\n",
      "Requirement already satisfied: pytz>=2020.1 in /opt/conda/lib/python3.12/site-packages (from pandas) (2024.2)\n",
      "Requirement already satisfied: tzdata>=2022.7 in /opt/conda/lib/python3.12/site-packages (from pandas) (2025.2)\n",
      "Requirement already satisfied: scipy>=1.8.0 in /opt/conda/lib/python3.12/site-packages (from scikit-learn) (1.16.1)\n",
      "Requirement already satisfied: joblib>=1.2.0 in /opt/conda/lib/python3.12/site-packages (from scikit-learn) (1.5.1)\n",
      "Requirement already satisfied: threadpoolctl>=3.1.0 in /opt/conda/lib/python3.12/site-packages (from scikit-learn) (3.6.0)\n",
      "Collecting nvidia-nccl-cu12 (from xgboost)\n",
      "  Using cached nvidia_nccl_cu12-2.28.3-py3-none-manylinux_2_18_x86_64.whl.metadata (2.0 kB)\n",
      "Requirement already satisfied: mdurl~=0.1 in /opt/conda/lib/python3.12/site-packages (from markdown-it-py>=2.2.0->rich<15.0.0,>=13.0.0->sagemaker-core<2.0.0,>=1.0.17->sagemaker) (0.1.2)\n",
      "Requirement already satisfied: charset_normalizer<4,>=2 in /opt/conda/lib/python3.12/site-packages (from requests->sagemaker) (3.4.3)\n",
      "Requirement already satisfied: idna<4,>=2.5 in /opt/conda/lib/python3.12/site-packages (from requests->sagemaker) (3.10)\n",
      "Requirement already satisfied: certifi>=2017.4.17 in /opt/conda/lib/python3.12/site-packages (from requests->sagemaker) (2025.8.3)\n",
      "Requirement already satisfied: starlette<0.48.0,>=0.40.0 in /opt/conda/lib/python3.12/site-packages (from fastapi->sagemaker) (0.47.2)\n",
      "Requirement already satisfied: anyio<5,>=3.6.2 in /opt/conda/lib/python3.12/site-packages (from starlette<0.48.0,>=0.40.0->fastapi->sagemaker) (4.10.0)\n",
      "Requirement already satisfied: sniffio>=1.1 in /opt/conda/lib/python3.12/site-packages (from anyio<5,>=3.6.2->starlette<0.48.0,>=0.40.0->fastapi->sagemaker) (1.3.1)\n",
      "Requirement already satisfied: ppft>=1.7.7 in /opt/conda/lib/python3.12/site-packages (from pathos->sagemaker) (1.7.7)\n",
      "Requirement already satisfied: dill>=0.4.0 in /opt/conda/lib/python3.12/site-packages (from pathos->sagemaker) (0.4.0)\n",
      "Requirement already satisfied: pox>=0.3.6 in /opt/conda/lib/python3.12/site-packages (from pathos->sagemaker) (0.3.6)\n",
      "Requirement already satisfied: multiprocess>=0.70.18 in /opt/conda/lib/python3.12/site-packages (from pathos->sagemaker) (0.70.18)\n",
      "Requirement already satisfied: click>=7.0 in /opt/conda/lib/python3.12/site-packages (from uvicorn->sagemaker) (8.2.1)\n",
      "Requirement already satisfied: h11>=0.8 in /opt/conda/lib/python3.12/site-packages (from uvicorn->sagemaker) (0.16.0)\n",
      "Using cached sagemaker-2.253.1-py3-none-any.whl (1.7 MB)\n",
      "Using cached boto3-1.40.55-py3-none-any.whl (139 kB)\n",
      "Using cached attrs-25.4.0-py3-none-any.whl (67 kB)\n",
      "Using cached botocore-1.40.55-py3-none-any.whl (14.1 MB)\n",
      "Using cached s3transfer-0.14.0-py3-none-any.whl (85 kB)\n",
      "Using cached pandas-2.3.3-cp312-cp312-manylinux_2_24_x86_64.manylinux_2_28_x86_64.whl (12.4 MB)\n",
      "Using cached scikit_learn-1.7.2-cp312-cp312-manylinux2014_x86_64.manylinux_2_17_x86_64.whl (9.5 MB)\n",
      "Using cached xgboost-3.1.0-py3-none-manylinux_2_28_x86_64.whl (115.9 MB)\n",
      "Using cached imbalanced_learn-0.14.0-py3-none-any.whl (239 kB)\n",
      "Using cached nvidia_nccl_cu12-2.28.3-py3-none-manylinux_2_18_x86_64.whl (295.9 MB)\n",
      "Installing collected packages: nvidia-nccl-cu12, attrs, xgboost, scikit-learn, pandas, botocore, s3transfer, imbalanced-learn, boto3, sagemaker\n",
      "\u001b[2K  Attempting uninstall: attrs━━━━━━━━━━━━━━━━━━━\u001b[0m \u001b[32m 0/10\u001b[0m [nvidia-nccl-cu12]\n",
      "\u001b[2K    Found existing installation: attrs 23.2.0━━━━━━━━━━━━━━━━━━━━━\u001b[0m \u001b[32m 1/10\u001b[0m [attrs]\n",
      "\u001b[2K    Uninstalling attrs-23.2.0:━━━━━━━━━━━━━━━━━━━━━━━━━━━━━━━━\u001b[0m \u001b[32m 1/10\u001b[0m [attrs]\n",
      "\u001b[2K      Successfully uninstalled attrs-23.2.0━━━━━━━━━━━━━━━━━━━\u001b[0m \u001b[32m 1/10\u001b[0m [attrs]\n",
      "\u001b[2K  Attempting uninstall: xgboost━━━━━━━━━━━━━━━━━━━━━━━━━━━━━━━\u001b[0m \u001b[32m 1/10\u001b[0m [attrs]\n",
      "\u001b[2K    Found existing installation: xgboost 2.1.4━━━━━━━━━━━━━━━━\u001b[0m \u001b[32m 1/10\u001b[0m [attrs]\n",
      "\u001b[2K    Uninstalling xgboost-2.1.4:━━━━━━━━━━━━━━━━━━━━━━━━━━━━━━━\u001b[0m \u001b[32m 1/10\u001b[0m [attrs]\n",
      "\u001b[2K      Successfully uninstalled xgboost-2.1.4━━━━━━━━━━━━━━━━━━\u001b[0m \u001b[32m 1/10\u001b[0m [attrs]\n",
      "\u001b[2K  Attempting uninstall: scikit-learn━━━━━━━━━━━━━━━━━━━━━━━━━━━━━━\u001b[0m \u001b[32m 2/10\u001b[0m [xgboost]\n",
      "\u001b[2K    Found existing installation: scikit-learn 1.7.1━━━━━━━━━━━\u001b[0m \u001b[32m 2/10\u001b[0m [xgboost]\n",
      "\u001b[2K    Uninstalling scikit-learn-1.7.1:90m━━━━━━━━━━━━━━━━━━━━━━━━━━━\u001b[0m \u001b[32m 3/10\u001b[0m [scikit-learn]\n",
      "\u001b[2K      Successfully uninstalled scikit-learn-1.7.1━━━━━━━━━━━━━\u001b[0m \u001b[32m 3/10\u001b[0m [scikit-learn]\n",
      "\u001b[2K  Attempting uninstall: pandas\u001b[0m\u001b[90m━━━━━━━━━━━━━━━━━━━━━━━━━━━\u001b[0m \u001b[32m 3/10\u001b[0m [scikit-learn]\n",
      "\u001b[2K    Found existing installation: pandas 2.3.1━━━━━━━━━━━━━━━━━\u001b[0m \u001b[32m 3/10\u001b[0m [scikit-learn]\n",
      "\u001b[2K    Uninstalling pandas-2.3.1:90m╺\u001b[0m\u001b[90m━━━━━━━━━━━━━━━━━━━━━━━\u001b[0m \u001b[32m 4/10\u001b[0m [pandas]n]\n",
      "\u001b[2K      Successfully uninstalled pandas-2.3.1━━━━━━━━━━━━━━━━━━━━━━━\u001b[0m \u001b[32m 4/10\u001b[0m [pandas]\n",
      "\u001b[2K  Attempting uninstall: botocorem╺\u001b[0m\u001b[90m━━━━━━━━━━━━━━━━━━━━━━━\u001b[0m \u001b[32m 4/10\u001b[0m [pandas]\n",
      "\u001b[2K    Found existing installation: botocore 1.37.1━━━━━━━━━━━━━━\u001b[0m \u001b[32m 4/10\u001b[0m [pandas]\n",
      "\u001b[2K    Uninstalling botocore-1.37.1:[90m╺\u001b[0m\u001b[90m━━━━━━━━━━━━━━━━━━━\u001b[0m \u001b[32m 5/10\u001b[0m [botocore]\n",
      "\u001b[2K      Successfully uninstalled botocore-1.37.1━━━━━━━━━━━━━━━━\u001b[0m \u001b[32m 5/10\u001b[0m [botocore]\n",
      "\u001b[2K  Attempting uninstall: s3transfer90m╺\u001b[0m\u001b[90m━━━━━━━━━━━━━━━━━━━\u001b[0m \u001b[32m 5/10\u001b[0m [botocore]\n",
      "\u001b[2K    Found existing installation: s3transfer 0.11.3━━━━━━━━━━━━\u001b[0m \u001b[32m 5/10\u001b[0m [botocore]\n",
      "\u001b[2K    Uninstalling s3transfer-0.11.3:[0m\u001b[90m━━━━━━━━━━━━━━━━━━━\u001b[0m \u001b[32m 5/10\u001b[0m [botocore]\n",
      "\u001b[2K      Successfully uninstalled s3transfer-0.11.3━━━━━━━━━━━━━━\u001b[0m \u001b[32m 5/10\u001b[0m [botocore]\n",
      "\u001b[2K  Attempting uninstall: boto3━━━━━━━\u001b[0m\u001b[90m╺\u001b[0m\u001b[90m━━━━━━━━━━━\u001b[0m \u001b[32m 7/10\u001b[0m [imbalanced-learn]\n",
      "\u001b[2K    Found existing installation: boto3 1.37.1m\u001b[90m━━━━━━━━━━━\u001b[0m \u001b[32m 7/10\u001b[0m [imbalanced-learn]\n",
      "\u001b[2K    Uninstalling boto3-1.37.1:━━\u001b[0m\u001b[90m╺\u001b[0m\u001b[90m━━━━━━━━━━━\u001b[0m \u001b[32m 7/10\u001b[0m [imbalanced-learn]\n",
      "\u001b[2K      Successfully uninstalled boto3-1.37.1[0m\u001b[90m━━━━━━━━━━━\u001b[0m \u001b[32m 7/10\u001b[0m [imbalanced-learn]\n",
      "\u001b[2K  Attempting uninstall: sagemaker━━━━━━━\u001b[0m\u001b[90m╺\u001b[0m\u001b[90m━━━━━━━\u001b[0m \u001b[32m 8/10\u001b[0m [boto3]-learn]\n",
      "\u001b[2K    Found existing installation: sagemaker 2.245.0\u001b[90m━━━━━━━\u001b[0m \u001b[32m 8/10\u001b[0m [boto3]\n",
      "\u001b[2K    Uninstalling sagemaker-2.245.0:━━━━━━━━━\u001b[0m\u001b[90m╺\u001b[0m\u001b[90m━━━\u001b[0m \u001b[32m 9/10\u001b[0m [sagemaker]\n",
      "\u001b[2K      Successfully uninstalled sagemaker-2.245.0m╺\u001b[0m\u001b[90m━━━\u001b[0m \u001b[32m 9/10\u001b[0m [sagemaker]\n",
      "\u001b[2K   \u001b[90m━━━━━━━━━━━━━━━━━━━━━━━━━━━━━━━━━━━━━━━━\u001b[0m \u001b[32m10/10\u001b[0m [sagemaker]10\u001b[0m [sagemaker]\n",
      "\u001b[1A\u001b[2K\u001b[31mERROR: pip's dependency resolver does not currently take into account all the packages that are installed. This behaviour is the source of the following dependency conflicts.\n",
      "autogluon-multimodal 1.4.0 requires nvidia-ml-py3<8.0,>=7.352.0, which is not installed.\n",
      "aiobotocore 2.21.1 requires botocore<1.37.2,>=1.37.0, but you have botocore 1.40.55 which is incompatible.\n",
      "autogluon-multimodal 1.4.0 requires transformers[sentencepiece]<4.50,>=4.38.0, but you have transformers 4.55.2 which is incompatible.\n",
      "autogluon-timeseries 1.4.0 requires transformers[sentencepiece]<4.50,>=4.38.0, but you have transformers 4.55.2 which is incompatible.\n",
      "sagemaker-studio-analytics-extension 0.2.0 requires sparkmagic==0.22.0, but you have sparkmagic 0.21.0 which is incompatible.\n",
      "sparkmagic 0.21.0 requires pandas<2.0.0,>=0.17.1, but you have pandas 2.3.3 which is incompatible.\u001b[0m\u001b[31m\n",
      "\u001b[0mSuccessfully installed attrs-25.4.0 boto3-1.40.55 botocore-1.40.55 imbalanced-learn-0.14.0 nvidia-nccl-cu12-2.28.3 pandas-2.3.3 s3transfer-0.14.0 sagemaker-2.253.1 scikit-learn-1.7.2 xgboost-3.1.0\n",
      "CPU times: user 410 ms, sys: 129 ms, total: 539 ms\n",
      "Wall time: 25 s\n"
     ]
    }
   ],
   "source": [
    "%%time\n",
    "import sys\n",
    "!{sys.executable} -m pip install -U sagemaker boto3 pandas numpy scikit-learn xgboost imbalanced-learn"
   ]
  },
  {
   "cell_type": "code",
   "execution_count": 2,
   "id": "4c253046",
   "metadata": {},
   "outputs": [
    {
     "name": "stdout",
     "output_type": "stream",
     "text": [
      "sagemaker.config INFO - Not applying SDK defaults from location: /etc/xdg/sagemaker/config.yaml\n",
      "sagemaker.config INFO - Not applying SDK defaults from location: /home/sagemaker-user/.config/sagemaker/config.yaml\n",
      "Region: us-east-1\n",
      "Role: arn:aws:iam::730335352303:role/LabRole\n"
     ]
    }
   ],
   "source": [
    "import boto3\n",
    "import sagemaker\n",
    "import pandas as pd\n",
    "import numpy as np\n",
    "import json\n",
    "import pickle\n",
    "from datetime import datetime\n",
    "import time\n",
    "import joblib\n",
    "\n",
    "from sklearn.model_selection import train_test_split\n",
    "from sklearn.preprocessing import StandardScaler, LabelEncoder\n",
    "from sklearn.linear_model import LogisticRegression\n",
    "from sklearn.ensemble import RandomForestClassifier\n",
    "from sklearn.metrics import (\n",
    "    accuracy_score, precision_score, recall_score, f1_score, \n",
    "    roc_auc_score, confusion_matrix, classification_report, roc_curve\n",
    ")\n",
    "import xgboost as xgb\n",
    "\n",
    "import matplotlib.pyplot as plt\n",
    "import seaborn as sns\n",
    "\n",
    "from sagemaker import get_execution_role\n",
    "from sagemaker.sklearn.estimator import SKLearn\n",
    "from sagemaker.xgboost.estimator import XGBoost\n",
    "from sagemaker.model import Model\n",
    "from sagemaker.predictor import Predictor\n",
    "from sagemaker.serializers import CSVSerializer\n",
    "from sagemaker.deserializers import JSONDeserializer\n",
    "from sagemaker.model_monitor import DataCaptureConfig\n",
    "\n",
    "# Setup\n",
    "sagemaker_session = sagemaker.Session()\n",
    "role = get_execution_role()\n",
    "region = sagemaker_session.boto_region_name\n",
    "\n",
    "print(f\"Region: {region}\")\n",
    "print(f\"Role: {role}\")"
   ]
  },
  {
   "cell_type": "code",
   "execution_count": 3,
   "id": "76ba65ee",
   "metadata": {},
   "outputs": [
    {
     "name": "stdout",
     "output_type": "stream",
     "text": [
      "Configuration loaded:\n",
      "{\n",
      "  \"region\": \"us-east-1\",\n",
      "  \"s3_bucket\": \"sagemaker-us-east-1-730335352303\",\n",
      "  \"prefix\": \"flight-delay-prediction\",\n",
      "  \"role\": \"arn:aws:iam::730335352303:role/LabRole\",\n",
      "  \"feature_group_name\": \"flight-delay-features-2025-10-21-03-41-14\",\n",
      "  \"dataset_size\": 50000,\n",
      "  \"delay_rate\": 0.22478\n",
      "}\n"
     ]
    }
   ],
   "source": [
    "# Load configuration from previous notebook\n",
    "with open('config.json', 'r') as f:\n",
    "    config = json.load(f)\n",
    "\n",
    "s3_bucket = config['s3_bucket']\n",
    "prefix = config['prefix']\n",
    "feature_group_name = config['feature_group_name']\n",
    "\n",
    "print(\"Configuration loaded:\")\n",
    "print(json.dumps(config, indent=2))"
   ]
  },
  {
   "cell_type": "markdown",
   "id": "7d4ee219",
   "metadata": {},
   "source": [
    "## 2. Load Data from Feature Store"
   ]
  },
  {
   "cell_type": "code",
   "execution_count": 4,
   "id": "6a092aaa",
   "metadata": {},
   "outputs": [
    {
     "name": "stdout",
     "output_type": "stream",
     "text": [
      "Loading data from Feature Store: flight-delay-features-2025-10-21-03-41-14\n",
      "Note: In production, you'd query the offline store via Athena\n"
     ]
    },
    {
     "name": "stdout",
     "output_type": "stream",
     "text": [
      "✅ Loaded 48723 records from cached file\n",
      "Delay rate: 17.28%\n",
      "CPU times: user 332 ms, sys: 58.9 ms, total: 391 ms\n",
      "Wall time: 415 ms\n"
     ]
    },
    {
     "data": {
      "text/html": [
       "<div>\n",
       "<style scoped>\n",
       "    .dataframe tbody tr th:only-of-type {\n",
       "        vertical-align: middle;\n",
       "    }\n",
       "\n",
       "    .dataframe tbody tr th {\n",
       "        vertical-align: top;\n",
       "    }\n",
       "\n",
       "    .dataframe thead th {\n",
       "        text-align: right;\n",
       "    }\n",
       "</style>\n",
       "<table border=\"1\" class=\"dataframe\">\n",
       "  <thead>\n",
       "    <tr style=\"text-align: right;\">\n",
       "      <th></th>\n",
       "      <th>date</th>\n",
       "      <th>AIRLINE</th>\n",
       "      <th>AIRLINE_DOT</th>\n",
       "      <th>AIRLINE_CODE</th>\n",
       "      <th>DOT_CODE</th>\n",
       "      <th>FL_NUMBER</th>\n",
       "      <th>origin</th>\n",
       "      <th>ORIGIN_CITY</th>\n",
       "      <th>destination</th>\n",
       "      <th>DEST_CITY</th>\n",
       "      <th>...</th>\n",
       "      <th>year</th>\n",
       "      <th>departure_hour</th>\n",
       "      <th>is_delayed</th>\n",
       "      <th>temperature</th>\n",
       "      <th>wind_speed</th>\n",
       "      <th>precipitation</th>\n",
       "      <th>visibility</th>\n",
       "      <th>snow</th>\n",
       "      <th>event_time</th>\n",
       "      <th>date_str</th>\n",
       "    </tr>\n",
       "  </thead>\n",
       "  <tbody>\n",
       "    <tr>\n",
       "      <th>0</th>\n",
       "      <td>2021-05-04</td>\n",
       "      <td>JetBlue Airways</td>\n",
       "      <td>JetBlue Airways: B6</td>\n",
       "      <td>B6</td>\n",
       "      <td>20409</td>\n",
       "      <td>384</td>\n",
       "      <td>MCO</td>\n",
       "      <td>Orlando, FL</td>\n",
       "      <td>JFK</td>\n",
       "      <td>New York, NY</td>\n",
       "      <td>...</td>\n",
       "      <td>2021</td>\n",
       "      <td>15</td>\n",
       "      <td>0</td>\n",
       "      <td>71.291245</td>\n",
       "      <td>5.783882</td>\n",
       "      <td>0.241124</td>\n",
       "      <td>8.179102</td>\n",
       "      <td>0</td>\n",
       "      <td>1.620086e+09</td>\n",
       "      <td>2021-05-04</td>\n",
       "    </tr>\n",
       "    <tr>\n",
       "      <th>1</th>\n",
       "      <td>2019-11-26</td>\n",
       "      <td>Delta Air Lines Inc.</td>\n",
       "      <td>Delta Air Lines Inc.: DL</td>\n",
       "      <td>DL</td>\n",
       "      <td>19790</td>\n",
       "      <td>705</td>\n",
       "      <td>FLL</td>\n",
       "      <td>Fort Lauderdale, FL</td>\n",
       "      <td>DTW</td>\n",
       "      <td>Detroit, MI</td>\n",
       "      <td>...</td>\n",
       "      <td>2019</td>\n",
       "      <td>8</td>\n",
       "      <td>0</td>\n",
       "      <td>72.943453</td>\n",
       "      <td>7.066082</td>\n",
       "      <td>0.030149</td>\n",
       "      <td>9.784821</td>\n",
       "      <td>0</td>\n",
       "      <td>1.574726e+09</td>\n",
       "      <td>2019-11-26</td>\n",
       "    </tr>\n",
       "    <tr>\n",
       "      <th>2</th>\n",
       "      <td>2023-06-18</td>\n",
       "      <td>Southwest Airlines Co.</td>\n",
       "      <td>Southwest Airlines Co.: WN</td>\n",
       "      <td>WN</td>\n",
       "      <td>19393</td>\n",
       "      <td>1926</td>\n",
       "      <td>SMF</td>\n",
       "      <td>Sacramento, CA</td>\n",
       "      <td>LAS</td>\n",
       "      <td>Las Vegas, NV</td>\n",
       "      <td>...</td>\n",
       "      <td>2023</td>\n",
       "      <td>21</td>\n",
       "      <td>0</td>\n",
       "      <td>70.144832</td>\n",
       "      <td>17.305176</td>\n",
       "      <td>0.021509</td>\n",
       "      <td>8.858516</td>\n",
       "      <td>0</td>\n",
       "      <td>1.687046e+09</td>\n",
       "      <td>2023-06-18</td>\n",
       "    </tr>\n",
       "    <tr>\n",
       "      <th>3</th>\n",
       "      <td>2019-07-28</td>\n",
       "      <td>SkyWest Airlines Inc.</td>\n",
       "      <td>SkyWest Airlines Inc.: OO</td>\n",
       "      <td>OO</td>\n",
       "      <td>20304</td>\n",
       "      <td>4459</td>\n",
       "      <td>OKC</td>\n",
       "      <td>Oklahoma City, OK</td>\n",
       "      <td>DTW</td>\n",
       "      <td>Detroit, MI</td>\n",
       "      <td>...</td>\n",
       "      <td>2019</td>\n",
       "      <td>5</td>\n",
       "      <td>0</td>\n",
       "      <td>56.911260</td>\n",
       "      <td>12.778564</td>\n",
       "      <td>0.070731</td>\n",
       "      <td>8.178920</td>\n",
       "      <td>0</td>\n",
       "      <td>1.564272e+09</td>\n",
       "      <td>2019-07-28</td>\n",
       "    </tr>\n",
       "    <tr>\n",
       "      <th>4</th>\n",
       "      <td>2023-03-17</td>\n",
       "      <td>JetBlue Airways</td>\n",
       "      <td>JetBlue Airways: B6</td>\n",
       "      <td>B6</td>\n",
       "      <td>20409</td>\n",
       "      <td>277</td>\n",
       "      <td>FLL</td>\n",
       "      <td>Fort Lauderdale, FL</td>\n",
       "      <td>SFO</td>\n",
       "      <td>San Francisco, CA</td>\n",
       "      <td>...</td>\n",
       "      <td>2023</td>\n",
       "      <td>20</td>\n",
       "      <td>0</td>\n",
       "      <td>64.984593</td>\n",
       "      <td>1.737282</td>\n",
       "      <td>0.010243</td>\n",
       "      <td>9.897891</td>\n",
       "      <td>0</td>\n",
       "      <td>1.679011e+09</td>\n",
       "      <td>2023-03-17</td>\n",
       "    </tr>\n",
       "  </tbody>\n",
       "</table>\n",
       "<p>5 rows × 47 columns</p>\n",
       "</div>"
      ],
      "text/plain": [
       "         date                 AIRLINE                 AIRLINE_DOT  \\\n",
       "0  2021-05-04         JetBlue Airways         JetBlue Airways: B6   \n",
       "1  2019-11-26    Delta Air Lines Inc.    Delta Air Lines Inc.: DL   \n",
       "2  2023-06-18  Southwest Airlines Co.  Southwest Airlines Co.: WN   \n",
       "3  2019-07-28   SkyWest Airlines Inc.   SkyWest Airlines Inc.: OO   \n",
       "4  2023-03-17         JetBlue Airways         JetBlue Airways: B6   \n",
       "\n",
       "  AIRLINE_CODE  DOT_CODE  FL_NUMBER origin          ORIGIN_CITY destination  \\\n",
       "0           B6     20409        384    MCO          Orlando, FL         JFK   \n",
       "1           DL     19790        705    FLL  Fort Lauderdale, FL         DTW   \n",
       "2           WN     19393       1926    SMF       Sacramento, CA         LAS   \n",
       "3           OO     20304       4459    OKC    Oklahoma City, OK         DTW   \n",
       "4           B6     20409        277    FLL  Fort Lauderdale, FL         SFO   \n",
       "\n",
       "           DEST_CITY  ...  year  departure_hour  is_delayed  temperature  \\\n",
       "0       New York, NY  ...  2021              15           0    71.291245   \n",
       "1        Detroit, MI  ...  2019               8           0    72.943453   \n",
       "2      Las Vegas, NV  ...  2023              21           0    70.144832   \n",
       "3        Detroit, MI  ...  2019               5           0    56.911260   \n",
       "4  San Francisco, CA  ...  2023              20           0    64.984593   \n",
       "\n",
       "   wind_speed  precipitation  visibility  snow    event_time    date_str  \n",
       "0    5.783882       0.241124    8.179102     0  1.620086e+09  2021-05-04  \n",
       "1    7.066082       0.030149    9.784821     0  1.574726e+09  2019-11-26  \n",
       "2   17.305176       0.021509    8.858516     0  1.687046e+09  2023-06-18  \n",
       "3   12.778564       0.070731    8.178920     0  1.564272e+09  2019-07-28  \n",
       "4    1.737282       0.010243    9.897891     0  1.679011e+09  2023-03-17  \n",
       "\n",
       "[5 rows x 47 columns]"
      ]
     },
     "execution_count": 4,
     "metadata": {},
     "output_type": "execute_result"
    }
   ],
   "source": [
    "%%time\n",
    "# Query Feature Store to get training data\n",
    "from sagemaker.feature_store.feature_group import FeatureGroup\n",
    "\n",
    "feature_group = FeatureGroup(name=feature_group_name, sagemaker_session=sagemaker_session)\n",
    "\n",
    "# For training, we'll use the offline store via Athena\n",
    "# But for simplicity, let's recreate the data from our previous processing\n",
    "# Load the data we prepared in notebook 1\n",
    "\n",
    "print(f\"Loading data from Feature Store: {feature_group_name}\")\n",
    "print(\"Note: In production, you'd query the offline store via Athena\")\n",
    "\n",
    "# For now, let's recreate our dataset from the CSV we know exists\n",
    "import os\n",
    "if os.path.exists('data/flight_data_complete.csv'):\n",
    "    df = pd.read_csv('data/flight_data_complete.csv')\n",
    "    print(f\"✅ Loaded {len(df)} records from cached file\")\n",
    "else:\n",
    "    # Read from notebook 1's preparation\n",
    "    print(\"Reading from Dataset for Airline Departure Delay Prediction...\")\n",
    "    data_path = \"Dataset for Airline Departure Delay Prediction/input_data.csv\"\n",
    "    columns_to_use = [\n",
    "        'MKT_CARRIER', 'ORIGIN', 'DEST', 'DISTANCE', 'FL_DATE', 'MONTH',\n",
    "        'DEP_DEL15', 'max_temp_f', 'avg_wind_speed_kts', 'precip_in', 'snow_in'\n",
    "    ]\n",
    "    df_raw = pd.read_csv(data_path, usecols=columns_to_use, nrows=50000)\n",
    "    \n",
    "    # Process features\n",
    "    df = pd.DataFrame()\n",
    "    df['airline'] = df_raw['MKT_CARRIER']\n",
    "    df['origin'] = df_raw['ORIGIN']\n",
    "    df['destination'] = df_raw['DEST']\n",
    "    df['distance'] = df_raw['DISTANCE']\n",
    "    df_raw['FL_DATE'] = pd.to_datetime(df_raw['FL_DATE'])\n",
    "    df['day_of_week'] = df_raw['FL_DATE'].dt.dayofweek\n",
    "    df['month'] = df_raw['MONTH']\n",
    "    df['departure_hour'] = np.random.randint(6, 23, size=len(df_raw))\n",
    "    df['temperature'] = df_raw['max_temp_f']\n",
    "    df['wind_speed'] = df_raw['avg_wind_speed_kts']\n",
    "    df['precipitation'] = df_raw['precip_in']\n",
    "    df['visibility'] = 10.0  # Default\n",
    "    df['snow'] = (df_raw['snow_in'] > 0).astype(int)\n",
    "    df['is_delayed'] = df_raw['DEP_DEL15'].fillna(0).astype(int)\n",
    "    \n",
    "    print(f\"✅ Processed {len(df)} records\")\n",
    "\n",
    "print(f\"Delay rate: {df['is_delayed'].mean():.2%}\")\n",
    "df.head()"
   ]
  },
  {
   "cell_type": "markdown",
   "id": "0d9833ae",
   "metadata": {},
   "source": [
    "## 3. Feature Engineering and Preprocessing"
   ]
  },
  {
   "cell_type": "code",
   "execution_count": 5,
   "id": "18c6dfd4",
   "metadata": {},
   "outputs": [
    {
     "name": "stdout",
     "output_type": "stream",
     "text": [
      "Available columns:\n",
      "['date', 'AIRLINE', 'AIRLINE_DOT', 'AIRLINE_CODE', 'DOT_CODE', 'FL_NUMBER', 'origin', 'ORIGIN_CITY', 'destination', 'DEST_CITY', 'scheduled_departure', 'actual_departure', 'departure_delay', 'TAXI_OUT', 'WHEELS_OFF', 'WHEELS_ON', 'TAXI_IN', 'CRS_ARR_TIME', 'ARR_TIME', 'arrival_delay', 'cancelled', 'CANCELLATION_CODE', 'DIVERTED', 'CRS_ELAPSED_TIME', 'ELAPSED_TIME', 'AIR_TIME', 'distance', 'DELAY_DUE_CARRIER', 'DELAY_DUE_WEATHER', 'DELAY_DUE_NAS', 'DELAY_DUE_SECURITY', 'DELAY_DUE_LATE_AIRCRAFT', 'flight_id', 'day_of_week', 'month', 'day_of_month', 'quarter', 'year', 'departure_hour', 'is_delayed', 'temperature', 'wind_speed', 'precipitation', 'visibility', 'snow', 'event_time', 'date_str']\n",
      "\n",
      "Features shape: (48723, 12)\n",
      "Target shape: (48723,)\n",
      "\n",
      "Feature columns: ['airline', 'origin', 'destination', 'distance', 'day_of_week', 'month', 'departure_hour', 'temperature', 'wind_speed', 'precipitation', 'visibility', 'snow']\n"
     ]
    }
   ],
   "source": [
    "# Check available columns and select features\n",
    "print(\"Available columns:\")\n",
    "print(df.columns.tolist())\n",
    "\n",
    "# Map column names (handle both formats - lowercase from new data, uppercase from cached Kaggle data)\n",
    "if 'airline' in df.columns:\n",
    "    # New format\n",
    "    feature_columns = [\n",
    "        'airline', 'origin', 'destination', 'distance', \n",
    "        'day_of_week', 'month', 'departure_hour',\n",
    "        'temperature', 'wind_speed', 'precipitation', 'visibility', 'snow'\n",
    "    ]\n",
    "    target_column = 'is_delayed'\n",
    "else:\n",
    "    # Kaggle format (cached data)\n",
    "    feature_columns = [\n",
    "        'AIRLINE', 'origin', 'destination', 'distance', \n",
    "        'day_of_week', 'month', 'departure_hour',\n",
    "        'temperature', 'wind_speed', 'precipitation', 'visibility', 'snow'\n",
    "    ]\n",
    "    target_column = 'is_delayed'\n",
    "    # Rename for consistency\n",
    "    df = df.rename(columns={'AIRLINE': 'airline'})\n",
    "    feature_columns[0] = 'airline'\n",
    "\n",
    "# Create feature dataframe\n",
    "X = df[feature_columns].copy()\n",
    "y = df[target_column].copy()\n",
    "\n",
    "print(f\"\\nFeatures shape: {X.shape}\")\n",
    "print(f\"Target shape: {y.shape}\")\n",
    "print(f\"\\nFeature columns: {feature_columns}\")"
   ]
  },
  {
   "cell_type": "code",
   "execution_count": 6,
   "id": "d1fe6e6c",
   "metadata": {},
   "outputs": [
    {
     "name": "stdout",
     "output_type": "stream",
     "text": [
      "Encoded airline: 18 unique values\n",
      "Encoded origin: 363 unique values\n",
      "Encoded destination: 366 unique values\n",
      "\n",
      "Categorical encoding complete\n"
     ]
    },
    {
     "data": {
      "text/html": [
       "<div>\n",
       "<style scoped>\n",
       "    .dataframe tbody tr th:only-of-type {\n",
       "        vertical-align: middle;\n",
       "    }\n",
       "\n",
       "    .dataframe tbody tr th {\n",
       "        vertical-align: top;\n",
       "    }\n",
       "\n",
       "    .dataframe thead th {\n",
       "        text-align: right;\n",
       "    }\n",
       "</style>\n",
       "<table border=\"1\" class=\"dataframe\">\n",
       "  <thead>\n",
       "    <tr style=\"text-align: right;\">\n",
       "      <th></th>\n",
       "      <th>airline</th>\n",
       "      <th>origin</th>\n",
       "      <th>destination</th>\n",
       "      <th>distance</th>\n",
       "      <th>day_of_week</th>\n",
       "      <th>month</th>\n",
       "      <th>departure_hour</th>\n",
       "      <th>temperature</th>\n",
       "      <th>wind_speed</th>\n",
       "      <th>precipitation</th>\n",
       "      <th>visibility</th>\n",
       "      <th>snow</th>\n",
       "    </tr>\n",
       "  </thead>\n",
       "  <tbody>\n",
       "    <tr>\n",
       "      <th>0</th>\n",
       "      <td>10</td>\n",
       "      <td>210</td>\n",
       "      <td>183</td>\n",
       "      <td>944.0</td>\n",
       "      <td>1</td>\n",
       "      <td>5</td>\n",
       "      <td>15</td>\n",
       "      <td>71.291245</td>\n",
       "      <td>5.783882</td>\n",
       "      <td>0.241124</td>\n",
       "      <td>8.179102</td>\n",
       "      <td>0</td>\n",
       "    </tr>\n",
       "    <tr>\n",
       "      <th>1</th>\n",
       "      <td>3</td>\n",
       "      <td>123</td>\n",
       "      <td>103</td>\n",
       "      <td>1127.0</td>\n",
       "      <td>1</td>\n",
       "      <td>11</td>\n",
       "      <td>8</td>\n",
       "      <td>72.943453</td>\n",
       "      <td>7.066082</td>\n",
       "      <td>0.030149</td>\n",
       "      <td>9.784821</td>\n",
       "      <td>0</td>\n",
       "    </tr>\n",
       "    <tr>\n",
       "      <th>2</th>\n",
       "      <td>15</td>\n",
       "      <td>321</td>\n",
       "      <td>192</td>\n",
       "      <td>397.0</td>\n",
       "      <td>6</td>\n",
       "      <td>6</td>\n",
       "      <td>21</td>\n",
       "      <td>70.144832</td>\n",
       "      <td>17.305176</td>\n",
       "      <td>0.021509</td>\n",
       "      <td>8.858516</td>\n",
       "      <td>0</td>\n",
       "    </tr>\n",
       "    <tr>\n",
       "      <th>3</th>\n",
       "      <td>14</td>\n",
       "      <td>243</td>\n",
       "      <td>103</td>\n",
       "      <td>900.0</td>\n",
       "      <td>6</td>\n",
       "      <td>7</td>\n",
       "      <td>5</td>\n",
       "      <td>56.911260</td>\n",
       "      <td>12.778564</td>\n",
       "      <td>0.070731</td>\n",
       "      <td>8.178920</td>\n",
       "      <td>0</td>\n",
       "    </tr>\n",
       "    <tr>\n",
       "      <th>4</th>\n",
       "      <td>10</td>\n",
       "      <td>123</td>\n",
       "      <td>312</td>\n",
       "      <td>2584.0</td>\n",
       "      <td>4</td>\n",
       "      <td>3</td>\n",
       "      <td>20</td>\n",
       "      <td>64.984593</td>\n",
       "      <td>1.737282</td>\n",
       "      <td>0.010243</td>\n",
       "      <td>9.897891</td>\n",
       "      <td>0</td>\n",
       "    </tr>\n",
       "  </tbody>\n",
       "</table>\n",
       "</div>"
      ],
      "text/plain": [
       "   airline  origin  destination  distance  day_of_week  month  departure_hour  \\\n",
       "0       10     210          183     944.0            1      5              15   \n",
       "1        3     123          103    1127.0            1     11               8   \n",
       "2       15     321          192     397.0            6      6              21   \n",
       "3       14     243          103     900.0            6      7               5   \n",
       "4       10     123          312    2584.0            4      3              20   \n",
       "\n",
       "   temperature  wind_speed  precipitation  visibility  snow  \n",
       "0    71.291245    5.783882       0.241124    8.179102     0  \n",
       "1    72.943453    7.066082       0.030149    9.784821     0  \n",
       "2    70.144832   17.305176       0.021509    8.858516     0  \n",
       "3    56.911260   12.778564       0.070731    8.178920     0  \n",
       "4    64.984593    1.737282       0.010243    9.897891     0  "
      ]
     },
     "execution_count": 6,
     "metadata": {},
     "output_type": "execute_result"
    }
   ],
   "source": [
    "# Encode categorical variables\n",
    "categorical_features = ['airline', 'origin', 'destination']\n",
    "label_encoders = {}\n",
    "\n",
    "for col in categorical_features:\n",
    "    le = LabelEncoder()\n",
    "    X[col] = le.fit_transform(X[col])\n",
    "    label_encoders[col] = le\n",
    "    print(f\"Encoded {col}: {len(le.classes_)} unique values\")\n",
    "\n",
    "print(\"\\nCategorical encoding complete\")\n",
    "X.head()"
   ]
  },
  {
   "cell_type": "code",
   "execution_count": 7,
   "id": "8292f537",
   "metadata": {},
   "outputs": [
    {
     "name": "stdout",
     "output_type": "stream",
     "text": [
      "Training set: 34125 samples (70.0%)\n",
      "Validation set: 7289 samples (15.0%)\n",
      "Test set: 7309 samples (15.0%)\n",
      "\n",
      "Train delay rate: 17.28%\n",
      "Validation delay rate: 17.29%\n",
      "Test delay rate: 17.28%\n"
     ]
    }
   ],
   "source": [
    "# Split data: 70% train, 15% validation, 15% test\n",
    "X_temp, X_test, y_temp, y_test = train_test_split(\n",
    "    X, y, test_size=0.15, random_state=42, stratify=y\n",
    ")\n",
    "\n",
    "X_train, X_val, y_train, y_val = train_test_split(\n",
    "    X_temp, y_temp, test_size=0.176, random_state=42, stratify=y_temp  # 0.176 * 0.85 ≈ 0.15\n",
    ")\n",
    "\n",
    "print(f\"Training set: {X_train.shape[0]} samples ({X_train.shape[0]/len(X):.1%})\")\n",
    "print(f\"Validation set: {X_val.shape[0]} samples ({X_val.shape[0]/len(X):.1%})\")\n",
    "print(f\"Test set: {X_test.shape[0]} samples ({X_test.shape[0]/len(X):.1%})\")\n",
    "\n",
    "print(f\"\\nTrain delay rate: {y_train.mean():.2%}\")\n",
    "print(f\"Validation delay rate: {y_val.mean():.2%}\")\n",
    "print(f\"Test delay rate: {y_test.mean():.2%}\")"
   ]
  },
  {
   "cell_type": "code",
   "execution_count": 8,
   "id": "de336c3b",
   "metadata": {},
   "outputs": [
    {
     "name": "stdout",
     "output_type": "stream",
     "text": [
      "Feature scaling complete\n",
      "\n",
      "Scaled feature statistics (train):\n",
      "           distance   temperature    wind_speed  precipitation    visibility\n",
      "count  3.412500e+04  3.412500e+04  3.412500e+04   3.412500e+04  3.412500e+04\n",
      "mean  -4.039422e-17  1.467934e-16  6.246530e-17  -1.278456e-16 -1.299278e-15\n",
      "std    1.000015e+00  1.000015e+00  1.000015e+00   1.000015e+00  1.000015e+00\n",
      "min   -1.325553e+00 -4.080553e+00 -1.563302e+00  -8.370587e-01 -8.511238e+00\n",
      "25%   -7.227448e-01 -6.933626e-01 -8.061701e-01  -6.542666e-01 -3.806580e-01\n",
      "50%   -2.557807e-01  6.991492e-02 -1.058159e-01  -3.512386e-01  3.059609e-01\n",
      "75%    3.962711e-01  7.195069e-01  6.711637e-01   2.787504e-01  7.084541e-01\n",
      "max    7.084896e+00  3.481065e+00  4.650059e+00   1.008310e+01  9.954701e-01\n"
     ]
    }
   ],
   "source": [
    "# Scale numerical features\n",
    "scaler = StandardScaler()\n",
    "numeric_features = ['distance', 'temperature', 'wind_speed', 'precipitation', 'visibility']\n",
    "\n",
    "X_train[numeric_features] = scaler.fit_transform(X_train[numeric_features])\n",
    "X_val[numeric_features] = scaler.transform(X_val[numeric_features])\n",
    "X_test[numeric_features] = scaler.transform(X_test[numeric_features])\n",
    "\n",
    "print(\"Feature scaling complete\")\n",
    "print(\"\\nScaled feature statistics (train):\")\n",
    "print(X_train[numeric_features].describe())"
   ]
  },
  {
   "cell_type": "markdown",
   "id": "65ae1120",
   "metadata": {},
   "source": [
    "## 4. Train Multiple Models"
   ]
  },
  {
   "cell_type": "markdown",
   "id": "6b3cb8d5",
   "metadata": {},
   "source": [
    "### 4.1 Logistic Regression"
   ]
  },
  {
   "cell_type": "code",
   "execution_count": 9,
   "id": "c20225e6",
   "metadata": {},
   "outputs": [
    {
     "name": "stdout",
     "output_type": "stream",
     "text": [
      "Training Logistic Regression...\n",
      "\n",
      "Logistic Regression Results:\n",
      "train_accuracy: 0.5923\n",
      "val_accuracy: 0.6016\n",
      "val_precision: 0.2422\n",
      "val_recall: 0.6127\n",
      "val_f1: 0.3471\n",
      "val_roc_auc: 0.6421\n",
      "CPU times: user 112 ms, sys: 4.78 ms, total: 117 ms\n",
      "Wall time: 3.16 s\n"
     ]
    }
   ],
   "source": [
    "%%time\n",
    "print(\"Training Logistic Regression...\")\n",
    "\n",
    "lr_model = LogisticRegression(\n",
    "    max_iter=1000,\n",
    "    random_state=42,\n",
    "    class_weight='balanced',  # Handle class imbalance\n",
    "    n_jobs=-1\n",
    ")\n",
    "\n",
    "lr_model.fit(X_train, y_train)\n",
    "\n",
    "# Predictions\n",
    "lr_train_pred = lr_model.predict(X_train)\n",
    "lr_val_pred = lr_model.predict(X_val)\n",
    "lr_val_pred_proba = lr_model.predict_proba(X_val)[:, 1]\n",
    "\n",
    "# Metrics\n",
    "lr_metrics = {\n",
    "    'train_accuracy': accuracy_score(y_train, lr_train_pred),\n",
    "    'val_accuracy': accuracy_score(y_val, lr_val_pred),\n",
    "    'val_precision': precision_score(y_val, lr_val_pred),\n",
    "    'val_recall': recall_score(y_val, lr_val_pred),\n",
    "    'val_f1': f1_score(y_val, lr_val_pred),\n",
    "    'val_roc_auc': roc_auc_score(y_val, lr_val_pred_proba)\n",
    "}\n",
    "\n",
    "print(\"\\nLogistic Regression Results:\")\n",
    "for metric, value in lr_metrics.items():\n",
    "    print(f\"{metric}: {value:.4f}\")"
   ]
  },
  {
   "cell_type": "markdown",
   "id": "7b7bd292",
   "metadata": {},
   "source": [
    "### 4.2 Random Forest"
   ]
  },
  {
   "cell_type": "code",
   "execution_count": 10,
   "id": "7bfae0cb",
   "metadata": {},
   "outputs": [
    {
     "name": "stdout",
     "output_type": "stream",
     "text": [
      "Training Random Forest...\n"
     ]
    },
    {
     "name": "stdout",
     "output_type": "stream",
     "text": [
      "\n",
      "Random Forest Results:\n",
      "train_accuracy: 0.9304\n",
      "val_accuracy: 0.7871\n",
      "val_precision: 0.3504\n",
      "val_recall: 0.2714\n",
      "val_f1: 0.3059\n",
      "val_roc_auc: 0.6581\n",
      "CPU times: user 11.4 s, sys: 131 ms, total: 11.6 s\n",
      "Wall time: 3.21 s\n"
     ]
    }
   ],
   "source": [
    "%%time\n",
    "print(\"Training Random Forest...\")\n",
    "\n",
    "rf_model = RandomForestClassifier(\n",
    "    n_estimators=100,\n",
    "    max_depth=15,\n",
    "    min_samples_split=10,\n",
    "    min_samples_leaf=5,\n",
    "    random_state=42,\n",
    "    class_weight='balanced',\n",
    "    n_jobs=-1\n",
    ")\n",
    "\n",
    "rf_model.fit(X_train, y_train)\n",
    "\n",
    "# Predictions\n",
    "rf_train_pred = rf_model.predict(X_train)\n",
    "rf_val_pred = rf_model.predict(X_val)\n",
    "rf_val_pred_proba = rf_model.predict_proba(X_val)[:, 1]\n",
    "\n",
    "# Metrics\n",
    "rf_metrics = {\n",
    "    'train_accuracy': accuracy_score(y_train, rf_train_pred),\n",
    "    'val_accuracy': accuracy_score(y_val, rf_val_pred),\n",
    "    'val_precision': precision_score(y_val, rf_val_pred),\n",
    "    'val_recall': recall_score(y_val, rf_val_pred),\n",
    "    'val_f1': f1_score(y_val, rf_val_pred),\n",
    "    'val_roc_auc': roc_auc_score(y_val, rf_val_pred_proba)\n",
    "}\n",
    "\n",
    "print(\"\\nRandom Forest Results:\")\n",
    "for metric, value in rf_metrics.items():\n",
    "    print(f\"{metric}: {value:.4f}\")"
   ]
  },
  {
   "cell_type": "markdown",
   "id": "decafb32",
   "metadata": {},
   "source": [
    "### 4.3 XGBoost"
   ]
  },
  {
   "cell_type": "code",
   "execution_count": 11,
   "id": "7e13bb85",
   "metadata": {},
   "outputs": [
    {
     "name": "stdout",
     "output_type": "stream",
     "text": [
      "Training XGBoost...\n",
      "Scale pos weight: 4.79\n"
     ]
    },
    {
     "name": "stdout",
     "output_type": "stream",
     "text": [
      "\n",
      "XGBoost Results:\n",
      "train_accuracy: 0.7456\n",
      "val_accuracy: 0.6657\n",
      "val_precision: 0.2658\n",
      "val_recall: 0.5302\n",
      "val_f1: 0.3541\n",
      "val_roc_auc: 0.6513\n",
      "CPU times: user 1.75 s, sys: 40.4 ms, total: 1.79 s\n",
      "Wall time: 470 ms\n"
     ]
    }
   ],
   "source": [
    "%%time\n",
    "print(\"Training XGBoost...\")\n",
    "\n",
    "# Calculate scale_pos_weight for imbalanced data\n",
    "scale_pos_weight = (y_train == 0).sum() / (y_train == 1).sum()\n",
    "print(f\"Scale pos weight: {scale_pos_weight:.2f}\")\n",
    "\n",
    "xgb_model = xgb.XGBClassifier(\n",
    "    n_estimators=100,\n",
    "    max_depth=6,\n",
    "    learning_rate=0.1,\n",
    "    subsample=0.8,\n",
    "    colsample_bytree=0.8,\n",
    "    scale_pos_weight=scale_pos_weight,\n",
    "    random_state=42,\n",
    "    eval_metric='logloss',\n",
    "    n_jobs=-1\n",
    ")\n",
    "\n",
    "xgb_model.fit(\n",
    "    X_train, y_train,\n",
    "    eval_set=[(X_val, y_val)],\n",
    "    verbose=False\n",
    ")\n",
    "\n",
    "# Predictions\n",
    "xgb_train_pred = xgb_model.predict(X_train)\n",
    "xgb_val_pred = xgb_model.predict(X_val)\n",
    "xgb_val_pred_proba = xgb_model.predict_proba(X_val)[:, 1]\n",
    "\n",
    "# Metrics\n",
    "xgb_metrics = {\n",
    "    'train_accuracy': accuracy_score(y_train, xgb_train_pred),\n",
    "    'val_accuracy': accuracy_score(y_val, xgb_val_pred),\n",
    "    'val_precision': precision_score(y_val, xgb_val_pred),\n",
    "    'val_recall': recall_score(y_val, xgb_val_pred),\n",
    "    'val_f1': f1_score(y_val, xgb_val_pred),\n",
    "    'val_roc_auc': roc_auc_score(y_val, xgb_val_pred_proba)\n",
    "}\n",
    "\n",
    "print(\"\\nXGBoost Results:\")\n",
    "for metric, value in xgb_metrics.items():\n",
    "    print(f\"{metric}: {value:.4f}\")"
   ]
  },
  {
   "cell_type": "markdown",
   "id": "784a247e",
   "metadata": {},
   "source": [
    "## 5. Model Comparison and Selection"
   ]
  },
  {
   "cell_type": "code",
   "execution_count": 12,
   "id": "52596c5b",
   "metadata": {},
   "outputs": [
    {
     "name": "stdout",
     "output_type": "stream",
     "text": [
      "Model Comparison:\n",
      "                     train_accuracy  val_accuracy  val_precision  val_recall  \\\n",
      "Logistic Regression          0.5923        0.6016         0.2422      0.6127   \n",
      "Random Forest                0.9304        0.7871         0.3504      0.2714   \n",
      "XGBoost                      0.7456        0.6657         0.2658      0.5302   \n",
      "\n",
      "                     val_f1  val_roc_auc  \n",
      "Logistic Regression  0.3471       0.6421  \n",
      "Random Forest        0.3059       0.6581  \n",
      "XGBoost              0.3541       0.6513  \n",
      "\n",
      "🏆 Best Model: XGBoost\n",
      "Best F1 Score: 0.3541\n"
     ]
    }
   ],
   "source": [
    "# Compare models\n",
    "comparison_df = pd.DataFrame({\n",
    "    'Logistic Regression': lr_metrics,\n",
    "    'Random Forest': rf_metrics,\n",
    "    'XGBoost': xgb_metrics\n",
    "}).T\n",
    "\n",
    "print(\"Model Comparison:\")\n",
    "print(comparison_df.round(4))\n",
    "\n",
    "# Select best model based on F1 score (balanced metric)\n",
    "best_model_name = comparison_df['val_f1'].idxmax()\n",
    "print(f\"\\n🏆 Best Model: {best_model_name}\")\n",
    "print(f\"Best F1 Score: {comparison_df.loc[best_model_name, 'val_f1']:.4f}\")"
   ]
  },
  {
   "cell_type": "code",
   "execution_count": 13,
   "id": "37e244eb",
   "metadata": {},
   "outputs": [
    {
     "data": {
      "image/png": "[encoded data removed]",
      "text/plain": [
       "<Figure size 1600x500 with 2 Axes>"
      ]
     },
     "metadata": {},
     "output_type": "display_data"
    },
    {
     "name": "stdout",
     "output_type": "stream",
     "text": [
      "Model comparison chart saved as 'model_comparison.png'\n"
     ]
    }
   ],
   "source": [
    "# Visualize model comparison\n",
    "fig, axes = plt.subplots(1, 2, figsize=(16, 5))\n",
    "\n",
    "# Bar chart of metrics\n",
    "metrics_to_plot = ['val_accuracy', 'val_precision', 'val_recall', 'val_f1', 'val_roc_auc']\n",
    "comparison_df[metrics_to_plot].T.plot(kind='bar', ax=axes[0], rot=45)\n",
    "axes[0].set_title('Model Performance Comparison', fontsize=14, fontweight='bold')\n",
    "axes[0].set_ylabel('Score')\n",
    "axes[0].set_ylim(0, 1)\n",
    "axes[0].legend(loc='lower right')\n",
    "axes[0].grid(axis='y', alpha=0.3)\n",
    "\n",
    "# ROC curves\n",
    "lr_fpr, lr_tpr, _ = roc_curve(y_val, lr_val_pred_proba)\n",
    "rf_fpr, rf_tpr, _ = roc_curve(y_val, rf_val_pred_proba)\n",
    "xgb_fpr, xgb_tpr, _ = roc_curve(y_val, xgb_val_pred_proba)\n",
    "\n",
    "axes[1].plot(lr_fpr, lr_tpr, label=f\"LR (AUC={lr_metrics['val_roc_auc']:.3f})\")\n",
    "axes[1].plot(rf_fpr, rf_tpr, label=f\"RF (AUC={rf_metrics['val_roc_auc']:.3f})\")\n",
    "axes[1].plot(xgb_fpr, xgb_tpr, label=f\"XGB (AUC={xgb_metrics['val_roc_auc']:.3f})\")\n",
    "axes[1].plot([0, 1], [0, 1], 'k--', label='Random')\n",
    "axes[1].set_xlabel('False Positive Rate')\n",
    "axes[1].set_ylabel('True Positive Rate')\n",
    "axes[1].set_title('ROC Curves', fontsize=14, fontweight='bold')\n",
    "axes[1].legend()\n",
    "axes[1].grid(alpha=0.3)\n",
    "\n",
    "plt.tight_layout()\n",
    "plt.savefig('model_comparison.png', dpi=100, bbox_inches='tight')\n",
    "plt.show()\n",
    "\n",
    "print(\"Model comparison chart saved as 'model_comparison.png'\")"
   ]
  },
  {
   "cell_type": "markdown",
   "id": "53a3e84d",
   "metadata": {},
   "source": [
    "## 6. Detailed Evaluation of Best Model"
   ]
  },
  {
   "cell_type": "code",
   "execution_count": 14,
   "id": "5e0b3bc7",
   "metadata": {},
   "outputs": [
    {
     "name": "stdout",
     "output_type": "stream",
     "text": [
      "Selected model: XGBoost\n"
     ]
    }
   ],
   "source": [
    "# Select best model\n",
    "if best_model_name == 'Logistic Regression':\n",
    "    best_model = lr_model\n",
    "    best_pred = lr_val_pred\n",
    "    best_pred_proba = lr_val_pred_proba\n",
    "elif best_model_name == 'Random Forest':\n",
    "    best_model = rf_model\n",
    "    best_pred = rf_val_pred\n",
    "    best_pred_proba = rf_val_pred_proba\n",
    "else:\n",
    "    best_model = xgb_model\n",
    "    best_pred = xgb_val_pred\n",
    "    best_pred_proba = xgb_val_pred_proba\n",
    "\n",
    "print(f\"Selected model: {best_model_name}\")"
   ]
  },
  {
   "cell_type": "code",
   "execution_count": 15,
   "id": "8ce6f6ab",
   "metadata": {},
   "outputs": [
    {
     "data": {
      "image/png": "[encoded data removed]",
      "text/plain": [
       "<Figure size 1400x500 with 4 Axes>"
      ]
     },
     "metadata": {},
     "output_type": "display_data"
    },
    {
     "name": "stdout",
     "output_type": "stream",
     "text": [
      "Confusion matrix saved as 'confusion_matrix.png'\n"
     ]
    }
   ],
   "source": [
    "# Confusion matrix\n",
    "cm = confusion_matrix(y_val, best_pred)\n",
    "\n",
    "fig, axes = plt.subplots(1, 2, figsize=(14, 5))\n",
    "\n",
    "# Raw counts\n",
    "sns.heatmap(cm, annot=True, fmt='d', cmap='Blues', ax=axes[0])\n",
    "axes[0].set_title(f'{best_model_name} - Confusion Matrix (Counts)', fontweight='bold')\n",
    "axes[0].set_ylabel('Actual')\n",
    "axes[0].set_xlabel('Predicted')\n",
    "axes[0].set_xticklabels(['On-Time', 'Delayed'])\n",
    "axes[0].set_yticklabels(['On-Time', 'Delayed'])\n",
    "\n",
    "# Normalized\n",
    "cm_normalized = cm.astype('float') / cm.sum(axis=1)[:, np.newaxis]\n",
    "sns.heatmap(cm_normalized, annot=True, fmt='.2%', cmap='Blues', ax=axes[1])\n",
    "axes[1].set_title(f'{best_model_name} - Confusion Matrix (Normalized)', fontweight='bold')\n",
    "axes[1].set_ylabel('Actual')\n",
    "axes[1].set_xlabel('Predicted')\n",
    "axes[1].set_xticklabels(['On-Time', 'Delayed'])\n",
    "axes[1].set_yticklabels(['On-Time', 'Delayed'])\n",
    "\n",
    "plt.tight_layout()\n",
    "plt.savefig('confusion_matrix.png', dpi=100, bbox_inches='tight')\n",
    "plt.show()\n",
    "\n",
    "print(\"Confusion matrix saved as 'confusion_matrix.png'\")"
   ]
  },
  {
   "cell_type": "code",
   "execution_count": 16,
   "id": "7c095668",
   "metadata": {},
   "outputs": [
    {
     "name": "stdout",
     "output_type": "stream",
     "text": [
      "Classification Report:\n",
      "              precision    recall  f1-score   support\n",
      "\n",
      "     On-Time       0.88      0.69      0.77      6029\n",
      "     Delayed       0.27      0.53      0.35      1260\n",
      "\n",
      "    accuracy                           0.67      7289\n",
      "   macro avg       0.57      0.61      0.56      7289\n",
      "weighted avg       0.77      0.67      0.70      7289\n",
      "\n"
     ]
    }
   ],
   "source": [
    "# Classification report\n",
    "print(\"Classification Report:\")\n",
    "print(classification_report(y_val, best_pred, target_names=['On-Time', 'Delayed']))"
   ]
  },
  {
   "cell_type": "code",
   "execution_count": 17,
   "id": "eaa846ec",
   "metadata": {},
   "outputs": [
    {
     "data": {
      "image/png": "[encoded data removed]",
      "text/plain": [
       "<Figure size 1000x600 with 1 Axes>"
      ]
     },
     "metadata": {},
     "output_type": "display_data"
    },
    {
     "name": "stdout",
     "output_type": "stream",
     "text": [
      "\n",
      "Top 10 Most Important Features:\n",
      "           feature  importance\n",
      "6   departure_hour    0.207297\n",
      "0          airline    0.106330\n",
      "5            month    0.086970\n",
      "3         distance    0.072010\n",
      "10      visibility    0.068449\n",
      "1           origin    0.068390\n",
      "4      day_of_week    0.067971\n",
      "9    precipitation    0.067916\n",
      "8       wind_speed    0.067358\n",
      "7      temperature    0.064825\n",
      "\n",
      "Feature importance chart saved as 'feature_importance.png'\n"
     ]
    }
   ],
   "source": [
    "# Feature importance (for tree-based models)\n",
    "if best_model_name in ['Random Forest', 'XGBoost']:\n",
    "    if best_model_name == 'Random Forest':\n",
    "        importances = best_model.feature_importances_\n",
    "    else:\n",
    "        importances = best_model.feature_importances_\n",
    "    \n",
    "    feature_importance_df = pd.DataFrame({\n",
    "        'feature': feature_columns,\n",
    "        'importance': importances\n",
    "    }).sort_values('importance', ascending=False)\n",
    "    \n",
    "    plt.figure(figsize=(10, 6))\n",
    "    plt.barh(range(len(feature_importance_df)), feature_importance_df['importance'])\n",
    "    plt.yticks(range(len(feature_importance_df)), feature_importance_df['feature'])\n",
    "    plt.xlabel('Importance')\n",
    "    plt.title(f'{best_model_name} - Feature Importance', fontweight='bold')\n",
    "    plt.gca().invert_yaxis()\n",
    "    plt.tight_layout()\n",
    "    plt.savefig('feature_importance.png', dpi=100, bbox_inches='tight')\n",
    "    plt.show()\n",
    "    \n",
    "    print(\"\\nTop 10 Most Important Features:\")\n",
    "    print(feature_importance_df.head(10))\n",
    "    print(\"\\nFeature importance chart saved as 'feature_importance.png'\")"
   ]
  },
  {
   "cell_type": "markdown",
   "id": "2561ba0e",
   "metadata": {},
   "source": [
    "## 7. Test Set Evaluation"
   ]
  },
  {
   "cell_type": "code",
   "execution_count": 18,
   "id": "2a230e5e",
   "metadata": {},
   "outputs": [
    {
     "name": "stdout",
     "output_type": "stream",
     "text": [
      "\n",
      "============================================================\n",
      "FINAL TEST SET RESULTS - XGBoost\n",
      "============================================================\n",
      "ACCURACY: 0.6659\n",
      "PRECISION: 0.2682\n",
      "RECALL: 0.5400\n",
      "F1: 0.3584\n",
      "ROC_AUC: 0.6629\n",
      "============================================================\n",
      "\n",
      "Test Set Classification Report:\n",
      "              precision    recall  f1-score   support\n",
      "\n",
      "     On-Time       0.88      0.69      0.77      6046\n",
      "     Delayed       0.27      0.54      0.36      1263\n",
      "\n",
      "    accuracy                           0.67      7309\n",
      "   macro avg       0.57      0.62      0.57      7309\n",
      "weighted avg       0.77      0.67      0.70      7309\n",
      "\n"
     ]
    }
   ],
   "source": [
    "# Final evaluation on test set\n",
    "test_pred = best_model.predict(X_test)\n",
    "test_pred_proba = best_model.predict_proba(X_test)[:, 1]\n",
    "\n",
    "test_metrics = {\n",
    "    'accuracy': accuracy_score(y_test, test_pred),\n",
    "    'precision': precision_score(y_test, test_pred),\n",
    "    'recall': recall_score(y_test, test_pred),\n",
    "    'f1': f1_score(y_test, test_pred),\n",
    "    'roc_auc': roc_auc_score(y_test, test_pred_proba)\n",
    "}\n",
    "\n",
    "print(f\"\\n{'='*60}\")\n",
    "print(f\"FINAL TEST SET RESULTS - {best_model_name}\")\n",
    "print(f\"{'='*60}\")\n",
    "for metric, value in test_metrics.items():\n",
    "    print(f\"{metric.upper()}: {value:.4f}\")\n",
    "print(f\"{'='*60}\")\n",
    "\n",
    "print(\"\\nTest Set Classification Report:\")\n",
    "print(classification_report(y_test, test_pred, target_names=['On-Time', 'Delayed']))"
   ]
  },
  {
   "cell_type": "markdown",
   "id": "02f02a31",
   "metadata": {},
   "source": [
    "## 8. Save Model and Artifacts"
   ]
  },
  {
   "cell_type": "code",
   "execution_count": 32,
   "id": "0d7e10c3",
   "metadata": {},
   "outputs": [
    {
     "name": "stdout",
     "output_type": "stream",
     "text": [
      "XGBoost booster saved to: models/xgboost_model.json\n",
      "Model saved to: models/xgboost_model.pkl\n",
      "Preprocessing artifacts saved\n"
     ]
    }
   ],
   "source": [
    "# Save model locally\n",
    "!mkdir -p models\n",
    "\n",
    "# For XGBoost, save using the booster to avoid version compatibility issues\n",
    "model_path = f'models/{best_model_name.lower().replace(\" \", \"_\")}_model.pkl'\n",
    "\n",
    "# Save the XGBoost model using get_booster() for better compatibility\n",
    "if best_model_name == 'XGBoost':\n",
    "    # Save just the booster for cross-version compatibility\n",
    "    best_model.get_booster().save_model('models/xgboost_model.json')\n",
    "    # Also save the full model for local use\n",
    "    joblib.dump(best_model, model_path)\n",
    "    print(f\"XGBoost booster saved to: models/xgboost_model.json\")\n",
    "else:\n",
    "    joblib.dump(best_model, model_path)\n",
    "print(f\"Model saved to: {model_path}\")\n",
    "\n",
    "# Save preprocessing artifacts\n",
    "joblib.dump(scaler, 'models/scaler.pkl')\n",
    "joblib.dump(label_encoders, 'models/label_encoders.pkl')\n",
    "print(\"Preprocessing artifacts saved\")"
   ]
  },
  {
   "cell_type": "code",
   "execution_count": 20,
   "id": "3e8b837d",
   "metadata": {},
   "outputs": [
    {
     "name": "stdout",
     "output_type": "stream",
     "text": [
      "Model metadata saved\n",
      "{\n",
      "  \"model_name\": \"XGBoost\",\n",
      "  \"training_date\": \"2025-10-21T05:39:33.790494\",\n",
      "  \"validation_metrics\": {\n",
      "    \"accuracy\": 0.6656605844423104,\n",
      "    \"precision\": 0.26581774771189814,\n",
      "    \"recall\": 0.5301587301587302,\n",
      "    \"f1\": 0.35409488470712963,\n",
      "    \"roc_auc\": 0.6512973011397295\n",
      "  },\n",
      "  \"test_metrics\": {\n",
      "    \"accuracy\": 0.6658913668080448,\n",
      "    \"precision\": 0.2681871804954778,\n",
      "    \"recall\": 0.5399841646872525,\n",
      "    \"f1\": 0.3583815028901734,\n",
      "    \"roc_auc\": 0.6629389774725258\n",
      "  },\n",
      "  \"feature_columns\": [\n",
      "    \"airline\",\n",
      "    \"origin\",\n",
      "    \"destination\",\n",
      "    \"distance\",\n",
      "    \"day_of_week\",\n",
      "    \"month\",\n",
      "    \"departure_hour\",\n",
      "    \"temperature\",\n",
      "    \"wind_speed\",\n",
      "    \"precipitation\",\n",
      "    \"visibility\",\n",
      "    \"snow\"\n",
      "  ],\n",
      "  \"training_samples\": 34125,\n",
      "  \"validation_samples\": 7289,\n",
      "  \"test_samples\": 7309\n",
      "}\n"
     ]
    }
   ],
   "source": [
    "# Save model metrics\n",
    "model_metadata = {\n",
    "    'model_name': best_model_name,\n",
    "    'training_date': datetime.now().isoformat(),\n",
    "    'validation_metrics': {\n",
    "        'accuracy': float(comparison_df.loc[best_model_name, 'val_accuracy']),\n",
    "        'precision': float(comparison_df.loc[best_model_name, 'val_precision']),\n",
    "        'recall': float(comparison_df.loc[best_model_name, 'val_recall']),\n",
    "        'f1': float(comparison_df.loc[best_model_name, 'val_f1']),\n",
    "        'roc_auc': float(comparison_df.loc[best_model_name, 'val_roc_auc'])\n",
    "    },\n",
    "    'test_metrics': {k: float(v) for k, v in test_metrics.items()},\n",
    "    'feature_columns': feature_columns,\n",
    "    'training_samples': len(X_train),\n",
    "    'validation_samples': len(X_val),\n",
    "    'test_samples': len(X_test)\n",
    "}\n",
    "\n",
    "with open('models/model_metadata.json', 'w') as f:\n",
    "    json.dump(model_metadata, f, indent=2)\n",
    "\n",
    "print(\"Model metadata saved\")\n",
    "print(json.dumps(model_metadata, indent=2))"
   ]
  },
  {
   "cell_type": "code",
   "execution_count": 21,
   "id": "a6aab945",
   "metadata": {},
   "outputs": [
    {
     "name": "stdout",
     "output_type": "stream",
     "text": [
      "upload: models/label_encoders.pkl to s3://sagemaker-us-east-1-730335352303/flight-delay-prediction/models/label_encoders.pkl\n",
      "upload: models/scaler.pkl to s3://sagemaker-us-east-1-730335352303/flight-delay-prediction/models/scaler.pkl\n",
      "upload: models/model_metadata.json to s3://sagemaker-us-east-1-730335352303/flight-delay-prediction/models/model_metadata.json\n",
      "upload: models/xgboost_model.pkl to s3://sagemaker-us-east-1-730335352303/flight-delay-prediction/models/xgboost_model.pkl\n",
      "Models uploaded to: s3://sagemaker-us-east-1-730335352303/flight-delay-prediction/models\n"
     ]
    }
   ],
   "source": [
    "# Upload to S3\n",
    "model_s3_path = f's3://{s3_bucket}/{prefix}/models'\n",
    "!aws s3 cp --recursive models/ {model_s3_path}/\n",
    "\n",
    "print(f\"Models uploaded to: {model_s3_path}\")"
   ]
  },
  {
   "cell_type": "markdown",
   "id": "a31e08ef",
   "metadata": {},
   "source": [
    "## 9. Deploy Model to SageMaker Endpoint"
   ]
  },
  {
   "cell_type": "markdown",
   "id": "d253626c",
   "metadata": {},
   "source": [
    "### 9.1 Create Inference Script"
   ]
  },
  {
   "cell_type": "code",
   "execution_count": 50,
   "id": "74ef9611",
   "metadata": {},
   "outputs": [
    {
     "name": "stdout",
     "output_type": "stream",
     "text": [
      "Overwriting inference.py\n"
     ]
    }
   ],
   "source": [
    "%%writefile inference.py\n",
    "import json\n",
    "import joblib\n",
    "import numpy as np\n",
    "import os\n",
    "import xgboost as xgb\n",
    "\n",
    "def model_fn(model_dir):\n",
    "    \"\"\"Load model and preprocessing artifacts\"\"\"\n",
    "    # Load XGBoost booster (better cross-version compatibility)\n",
    "    model = xgb.Booster()\n",
    "    model.load_model(os.path.join(model_dir, 'xgboost_model.json'))\n",
    "    \n",
    "    scaler = joblib.load(os.path.join(model_dir, 'scaler.pkl'))\n",
    "    label_encoders = joblib.load(os.path.join(model_dir, 'label_encoders.pkl'))\n",
    "    \n",
    "    return {\n",
    "        'model': model,\n",
    "        'scaler': scaler,\n",
    "        'label_encoders': label_encoders\n",
    "    }\n",
    "\n",
    "def input_fn(request_body, content_type='application/json'):\n",
    "    \"\"\"Parse input data\"\"\"\n",
    "    if content_type == 'application/json':\n",
    "        data = json.loads(request_body)\n",
    "        return data\n",
    "    else:\n",
    "        raise ValueError(f\"Unsupported content type: {content_type}\")\n",
    "\n",
    "def predict_fn(input_data, model_artifacts):\n",
    "    \"\"\"Make predictions\"\"\"\n",
    "    model = model_artifacts['model']\n",
    "    scaler = model_artifacts['scaler']\n",
    "    label_encoders = model_artifacts['label_encoders']\n",
    "    \n",
    "    # Expected feature order\n",
    "    feature_columns = [\n",
    "        'airline', 'origin', 'destination', 'distance', \n",
    "        'day_of_week', 'month', 'departure_hour',\n",
    "        'temperature', 'wind_speed', 'precipitation', 'visibility', 'snow'\n",
    "    ]\n",
    "    \n",
    "    # Handle single record or batch\n",
    "    if isinstance(input_data, dict):\n",
    "        input_data = [input_data]\n",
    "    \n",
    "    # Process each record\n",
    "    processed_data = []\n",
    "    for record in input_data:\n",
    "        features = []\n",
    "        for col in feature_columns:\n",
    "            value = record[col]\n",
    "            # Encode categorical features\n",
    "            if col in label_encoders:\n",
    "                try:\n",
    "                    value = label_encoders[col].transform([value])[0]\n",
    "                except:\n",
    "                    value = 0  # Unknown category\n",
    "            features.append(value)\n",
    "        processed_data.append(features)\n",
    "    \n",
    "    # Convert to numpy array\n",
    "    X = np.array(processed_data, dtype=np.float32)\n",
    "    \n",
    "    # Scale numeric features\n",
    "    numeric_indices = [3, 7, 8, 9, 10]  # distance, temperature, wind_speed, precipitation, visibility\n",
    "    X[:, numeric_indices] = scaler.transform(X[:, numeric_indices])\n",
    "    \n",
    "    # Make predictions using booster - set feature names to match training\n",
    "    dmatrix = xgb.DMatrix(X, feature_names=feature_columns)\n",
    "    probabilities = model.predict(dmatrix)\n",
    "    \n",
    "    # For binary classification, XGBoost booster returns probabilities for positive class\n",
    "    # Convert to class predictions (threshold 0.5)\n",
    "    predictions = (probabilities > 0.5).astype(int)\n",
    "    \n",
    "    # Format probabilities as [[prob_class_0, prob_class_1], ...]\n",
    "    # Convert numpy types to Python types for JSON serialization\n",
    "    formatted_probs = [[float(1-p), float(p)] for p in probabilities]\n",
    "    \n",
    "    return {\n",
    "        'predictions': [int(p) for p in predictions],\n",
    "        'probabilities': formatted_probs\n",
    "    }\n",
    "\n",
    "def output_fn(prediction, accept='application/json'):\n",
    "    \"\"\"Format output\"\"\"\n",
    "    if accept == 'application/json':\n",
    "        return json.dumps(prediction), accept\n",
    "    raise ValueError(f\"Unsupported accept type: {accept}\")"
   ]
  },
  {
   "cell_type": "code",
   "execution_count": 51,
   "id": "7794be8a",
   "metadata": {},
   "outputs": [
    {
     "name": "stdout",
     "output_type": "stream",
     "text": [
      "Deployment package created: model.tar.gz\n",
      "Contents:\n",
      "inference.py\n",
      "label_encoders.pkl\n",
      "model.pkl\n",
      "scaler.pkl\n",
      "xgboost_model.json\n"
     ]
    }
   ],
   "source": [
    "# Package model for deployment\n",
    "!mkdir -p deployment_package\n",
    "!cp models/xgboost_model.json deployment_package/\n",
    "!cp models/scaler.pkl deployment_package/\n",
    "!cp models/label_encoders.pkl deployment_package/\n",
    "!cp inference.py deployment_package/\n",
    "\n",
    "# Create tarball\n",
    "!cd deployment_package && tar -czf ../model.tar.gz *\n",
    "\n",
    "print(\"Deployment package created: model.tar.gz\")\n",
    "print(\"Contents:\")\n",
    "!tar -tzf model.tar.gz"
   ]
  },
  {
   "cell_type": "code",
   "execution_count": 52,
   "id": "c41642c8",
   "metadata": {},
   "outputs": [
    {
     "name": "stdout",
     "output_type": "stream",
     "text": [
      "upload: ./model.tar.gz to s3://sagemaker-us-east-1-730335352303/flight-delay-prediction/deployment/model.tar.gz\n",
      "Model artifact uploaded to: s3://sagemaker-us-east-1-730335352303/flight-delay-prediction/deployment/model.tar.gz\n"
     ]
    }
   ],
   "source": [
    "# Upload model artifact to S3\n",
    "model_artifact_s3 = f's3://{s3_bucket}/{prefix}/deployment/model.tar.gz'\n",
    "!aws s3 cp model.tar.gz {model_artifact_s3}\n",
    "\n",
    "print(f\"Model artifact uploaded to: {model_artifact_s3}\")"
   ]
  },
  {
   "cell_type": "markdown",
   "id": "3d927da4",
   "metadata": {},
   "source": [
    "### 9.2 Create and Deploy Endpoint"
   ]
  },
  {
   "cell_type": "code",
   "execution_count": 53,
   "id": "7e52b2c6",
   "metadata": {},
   "outputs": [
    {
     "name": "stdout",
     "output_type": "stream",
     "text": [
      "XGBoost Model created\n"
     ]
    }
   ],
   "source": [
    "from sagemaker.xgboost.model import XGBoostModel\n",
    "from sagemaker.serializers import JSONSerializer\n",
    "from sagemaker.deserializers import JSONDeserializer\n",
    "\n",
    "# Create XGBoost model (not SKLearn - we're deploying an XGBoost model!)\n",
    "xgboost_model = XGBoostModel(\n",
    "    model_data=model_artifact_s3,\n",
    "    role=role,\n",
    "    entry_point='inference.py',\n",
    "    framework_version='1.7-1',  # XGBoost 1.7\n",
    "    py_version='py3'\n",
    ")\n",
    "\n",
    "print(\"XGBoost Model created\")"
   ]
  },
  {
   "cell_type": "code",
   "execution_count": 54,
   "id": "dbb17aa9",
   "metadata": {},
   "outputs": [
    {
     "name": "stdout",
     "output_type": "stream",
     "text": [
      "Data capture configured\n"
     ]
    }
   ],
   "source": [
    "# Configure data capture for monitoring\n",
    "from sagemaker.model_monitor import DataCaptureConfig\n",
    "\n",
    "data_capture_config = DataCaptureConfig(\n",
    "    enable_capture=True,\n",
    "    sampling_percentage=100,\n",
    "    destination_s3_uri=f's3://{s3_bucket}/{prefix}/data-capture'\n",
    ")\n",
    "\n",
    "print(\"Data capture configured\")"
   ]
  },
  {
   "cell_type": "code",
   "execution_count": 55,
   "id": "16db8735",
   "metadata": {},
   "outputs": [
    {
     "name": "stdout",
     "output_type": "stream",
     "text": [
      "-----!\n",
      "✅ Endpoint deployed: flight-delay-predictor-2025-10-21-06-04-56\n",
      "CPU times: user 337 ms, sys: 62.3 ms, total: 399 ms\n",
      "Wall time: 3min 2s\n"
     ]
    }
   ],
   "source": [
    "%%time\n",
    "# Deploy endpoint\n",
    "endpoint_name = f'flight-delay-predictor-{time.strftime(\"%Y-%m-%d-%H-%M-%S\", time.gmtime())}'\n",
    "\n",
    "predictor = xgboost_model.deploy(\n",
    "    initial_instance_count=1,\n",
    "    instance_type='ml.m5.xlarge',\n",
    "    endpoint_name=endpoint_name,\n",
    "    data_capture_config=data_capture_config,\n",
    "    serializer=JSONSerializer(),\n",
    "    deserializer=JSONDeserializer()\n",
    ")\n",
    "\n",
    "print(f\"\\n✅ Endpoint deployed: {endpoint_name}\")"
   ]
  },
  {
   "cell_type": "markdown",
   "id": "a6baa2b5",
   "metadata": {},
   "source": [
    "## 10. Test Endpoint"
   ]
  },
  {
   "cell_type": "code",
   "execution_count": 59,
   "id": "f51b61aa",
   "metadata": {},
   "outputs": [
    {
     "name": "stdout",
     "output_type": "stream",
     "text": [
      "Sample Input:\n",
      "{\n",
      "  \"airline\": \"AA\",\n",
      "  \"origin\": \"ATL\",\n",
      "  \"destination\": \"LAX\",\n",
      "  \"distance\": 1946,\n",
      "  \"day_of_week\": 2,\n",
      "  \"month\": 7,\n",
      "  \"departure_hour\": 8,\n",
      "  \"temperature\": 75.0,\n",
      "  \"wind_speed\": 12.0,\n",
      "  \"precipitation\": 0.0,\n",
      "  \"visibility\": 10.0,\n",
      "  \"snow\": 0\n",
      "}\n",
      "\n",
      "Prediction:\n",
      "{\n",
      "  \"predictions\": [\n",
      "    0\n",
      "  ],\n",
      "  \"probabilities\": [\n",
      "    [\n",
      "      0.917083352804184,\n",
      "      0.08291664719581604\n",
      "    ]\n",
      "  ]\n",
      "}\n",
      "\n",
      "============================================================\n",
      "✅ ON-TIME - Probability: 91.71%\n",
      "============================================================\n"
     ]
    }
   ],
   "source": [
    "# Test with sample data\n",
    "sample_input = {\n",
    "    'airline': 'AA',\n",
    "    'origin': 'ATL',\n",
    "    'destination': 'LAX',\n",
    "    'distance': 1946,\n",
    "    'day_of_week': 2,  # Wednesday\n",
    "    'month': 7,  # July\n",
    "    'departure_hour': 8,  # 8 AM\n",
    "    'temperature': 75.0,\n",
    "    'wind_speed': 12.0,\n",
    "    'precipitation': 0.0,\n",
    "    'visibility': 10.0,\n",
    "    'snow': 0\n",
    "}\n",
    "\n",
    "# Make prediction\n",
    "response = predictor.predict(sample_input)\n",
    "\n",
    "print(\"Sample Input:\")\n",
    "print(json.dumps(sample_input, indent=2))\n",
    "print(\"\\nPrediction:\")\n",
    "print(json.dumps(response, indent=2))\n",
    "\n",
    "delay_prediction = response['predictions'][0]\n",
    "delay_probability = response['probabilities'][0][1]\n",
    "\n",
    "print(f\"\\n{'='*60}\")\n",
    "if delay_prediction == 1:\n",
    "    print(f\"⚠️  DELAYED - Probability: {delay_probability:.2%}\")\n",
    "else:\n",
    "    print(f\"✅ ON-TIME - Probability: {1-delay_probability:.2%}\")\n",
    "print(f\"{'='*60}\")"
   ]
  },
  {
   "cell_type": "code",
   "execution_count": 56,
   "id": "7fde2733",
   "metadata": {},
   "outputs": [
    {
     "name": "stdout",
     "output_type": "stream",
     "text": [
      "Connected to endpoint: flight-delay-predictor-2025-10-21-06-04-56\n"
     ]
    }
   ],
   "source": [
    "# Reconnect to the deployed endpoint\n",
    "from sagemaker.predictor import Predictor\n",
    "from sagemaker.serializers import JSONSerializer\n",
    "from sagemaker.deserializers import JSONDeserializer\n",
    "\n",
    "predictor = Predictor(\n",
    "    endpoint_name=endpoint_name,\n",
    "    sagemaker_session=sagemaker_session,\n",
    "    serializer=JSONSerializer(),\n",
    "    deserializer=JSONDeserializer()\n",
    ")\n",
    "\n",
    "print(f\"Connected to endpoint: {endpoint_name}\")"
   ]
  },
  {
   "cell_type": "code",
   "execution_count": 57,
   "id": "609898ff",
   "metadata": {},
   "outputs": [
    {
     "name": "stdout",
     "output_type": "stream",
     "text": [
      "Success!\n",
      "{\n",
      "  \"predictions\": [\n",
      "    0\n",
      "  ],\n",
      "  \"probabilities\": [\n",
      "    [\n",
      "      0.917083352804184,\n",
      "      0.08291664719581604\n",
      "    ]\n",
      "  ]\n",
      "}\n"
     ]
    }
   ],
   "source": [
    "# Simple test to see error details\n",
    "import json\n",
    "\n",
    "test_data = {\n",
    "    'airline': 'AA',\n",
    "    'origin': 'ATL',\n",
    "    'destination': 'LAX',\n",
    "    'distance': 1946,\n",
    "    'day_of_week': 2,\n",
    "    'month': 7,\n",
    "    'departure_hour': 8,\n",
    "    'temperature': 75.0,\n",
    "    'wind_speed': 12.0,\n",
    "    'precipitation': 0.0,\n",
    "    'visibility': 10.0,\n",
    "    'snow': 0\n",
    "}\n",
    "\n",
    "try:\n",
    "    response = predictor.predict(test_data)\n",
    "    print(\"Success!\")\n",
    "    print(json.dumps(response, indent=2))\n",
    "except Exception as e:\n",
    "    print(f\"Error type: {type(e).__name__}\")\n",
    "    print(f\"Error message: {str(e)}\")"
   ]
  },
  {
   "cell_type": "code",
   "execution_count": 60,
   "id": "f2e960ec",
   "metadata": {},
   "outputs": [
    {
     "name": "stdout",
     "output_type": "stream",
     "text": [
      "Bad Weather Input:\n",
      "{\n",
      "  \"airline\": \"NK\",\n",
      "  \"origin\": \"ORD\",\n",
      "  \"destination\": \"DEN\",\n",
      "  \"distance\": 888,\n",
      "  \"day_of_week\": 0,\n",
      "  \"month\": 1,\n",
      "  \"departure_hour\": 18,\n",
      "  \"temperature\": 25.0,\n",
      "  \"wind_speed\": 30.0,\n",
      "  \"precipitation\": 0.5,\n",
      "  \"visibility\": 2.0,\n",
      "  \"snow\": 1\n",
      "}\n",
      "\n",
      "Prediction:\n",
      "\n",
      "============================================================\n",
      "✅ ON-TIME - Probability: 70.51%\n",
      "============================================================\n"
     ]
    }
   ],
   "source": [
    "# Test with adverse weather conditions\n",
    "bad_weather_input = {\n",
    "    'airline': 'NK',\n",
    "    'origin': 'ORD',\n",
    "    'destination': 'DEN',\n",
    "    'distance': 888,\n",
    "    'day_of_week': 0,  # Monday\n",
    "    'month': 1,  # January\n",
    "    'departure_hour': 18,  # 6 PM (rush hour)\n",
    "    'temperature': 25.0,\n",
    "    'wind_speed': 30.0,  # High wind\n",
    "    'precipitation': 0.5,  # Heavy rain\n",
    "    'visibility': 2.0,  # Poor visibility\n",
    "    'snow': 1  # Snow\n",
    "}\n",
    "\n",
    "response = predictor.predict(bad_weather_input)\n",
    "\n",
    "print(\"Bad Weather Input:\")\n",
    "print(json.dumps(bad_weather_input, indent=2))\n",
    "print(\"\\nPrediction:\")\n",
    "\n",
    "delay_prediction = response['predictions'][0]\n",
    "delay_probability = response['probabilities'][0][1]\n",
    "\n",
    "print(f\"\\n{'='*60}\")\n",
    "if delay_prediction == 1:\n",
    "    print(f\"⚠️  DELAYED - Probability: {delay_probability:.2%}\")\n",
    "else:\n",
    "    print(f\"✅ ON-TIME - Probability: {1-delay_probability:.2%}\")\n",
    "print(f\"{'='*60}\")"
   ]
  },
  {
   "cell_type": "markdown",
   "id": "96c20c8f",
   "metadata": {},
   "source": [
    "## 11. Save Configuration for Next Notebooks"
   ]
  },
  {
   "cell_type": "code",
   "execution_count": 61,
   "id": "1c7c4063",
   "metadata": {},
   "outputs": [
    {
     "name": "stdout",
     "output_type": "stream",
     "text": [
      "Configuration updated and saved\n",
      "{\n",
      "  \"region\": \"us-east-1\",\n",
      "  \"s3_bucket\": \"sagemaker-us-east-1-730335352303\",\n",
      "  \"prefix\": \"flight-delay-prediction\",\n",
      "  \"role\": \"arn:aws:iam::730335352303:role/LabRole\",\n",
      "  \"feature_group_name\": \"flight-delay-features-2025-10-21-03-41-14\",\n",
      "  \"dataset_size\": 50000,\n",
      "  \"delay_rate\": 0.22478,\n",
      "  \"endpoint_name\": \"flight-delay-predictor-2025-10-21-06-04-56\",\n",
      "  \"model_name\": \"XGBoost\",\n",
      "  \"model_s3_path\": \"s3://sagemaker-us-east-1-730335352303/flight-delay-prediction/deployment/model.tar.gz\",\n",
      "  \"data_capture_s3_uri\": \"s3://sagemaker-us-east-1-730335352303/flight-delay-prediction/data-capture\",\n",
      "  \"test_metrics\": {\n",
      "    \"accuracy\": 0.6658913668080448,\n",
      "    \"precision\": 0.2681871804954778,\n",
      "    \"recall\": 0.5399841646872525,\n",
      "    \"f1\": 0.3583815028901734,\n",
      "    \"roc_auc\": 0.6629389774725258\n",
      "  }\n",
      "}\n"
     ]
    }
   ],
   "source": [
    "# Update configuration\n",
    "config['endpoint_name'] = endpoint_name\n",
    "config['model_name'] = best_model_name\n",
    "config['model_s3_path'] = model_artifact_s3\n",
    "config['data_capture_s3_uri'] = f's3://{s3_bucket}/{prefix}/data-capture'\n",
    "config['test_metrics'] = {k: float(v) for k, v in test_metrics.items()}\n",
    "\n",
    "with open('config.json', 'w') as f:\n",
    "    json.dump(config, f, indent=2)\n",
    "\n",
    "print(\"Configuration updated and saved\")\n",
    "print(json.dumps(config, indent=2))"
   ]
  },
  {
   "cell_type": "markdown",
   "id": "e8181234",
   "metadata": {},
   "source": [
    "## Summary\n",
    "\n",
    "In this notebook, we:\n",
    "1. ✅ Loaded and preprocessed flight delay data\n",
    "2. ✅ Trained three models: Logistic Regression, Random Forest, and XGBoost\n",
    "3. ✅ Compared models and selected the best performer\n",
    "4. ✅ Evaluated on test set with comprehensive metrics\n",
    "5. ✅ Deployed model to SageMaker endpoint with data capture enabled\n",
    "6. ✅ Tested real-time predictions\n"
   ]
  }
 ],
 "metadata": {
  "kernelspec": {
   "display_name": "base",
   "language": "python",
   "name": "python3"
  },
  "language_info": {
   "codemirror_mode": {
    "name": "ipython",
    "version": 3
   },
   "file_extension": ".py",
   "mimetype": "text/x-python",
   "name": "python",
   "nbconvert_exporter": "python",
   "pygments_lexer": "ipython3",
   "version": "3.12.9"
  }
 },
 "nbformat": 4,
 "nbformat_minor": 5
}
